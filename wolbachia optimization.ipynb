{
 "cells": [
  {
   "cell_type": "markdown",
   "metadata": {},
   "source": [
    "# Loading the processed data"
   ]
  },
  {
   "cell_type": "code",
   "execution_count": 1,
   "metadata": {
    "lines_to_next_cell": 0
   },
   "outputs": [],
   "source": [
    "import geopandas as gpd\n",
    "import numpy as np"
   ]
  },
  {
   "cell_type": "code",
   "execution_count": 2,
   "metadata": {},
   "outputs": [],
   "source": [
    "import pandas as pd\n",
    "from shapely.geometry import LineString, MultiPoint, Point\n",
    "from shapely.ops import nearest_points\n",
    "from utils import add_release_penalty, map_shapely_objects, vrp_solver, generate_readable_solution, set_up_map"
   ]
  },
  {
   "cell_type": "code",
   "execution_count": 3,
   "metadata": {},
   "outputs": [],
   "source": [
    "road_crossed = np.load('data/road_crossed.pickle', allow_pickle=True)\n",
    "water_crossed = np.load('data/water_crossed.pickle', allow_pickle=True)\n",
    "euclidean_dist = np.load('data/distance.pickle', allow_pickle=True)"
   ]
  },
  {
   "cell_type": "code",
   "execution_count": 4,
   "metadata": {},
   "outputs": [],
   "source": [
    "# filename = \"data/block_with_geoloc.csv\" # Old data\n",
    "filename = \"data/NSE_release_with_latlong.csv\" # New data"
   ]
  },
  {
   "cell_type": "code",
   "execution_count": 5,
   "metadata": {
    "lines_to_next_cell": 2
   },
   "outputs": [],
   "source": [
    "df = pd.read_csv(filename)\n",
    "num_blocks = len(df)\n",
    "longlat = list(zip(df[\"long\"], df[\"lat\"]))\n",
    "# Converting it to geopandas\n",
    "geometry = [Point(xy) for xy in longlat]\n",
    "crs = {\"init\": \"epsg:4326\"}\n",
    "gdf = gpd.GeoDataFrame(df, crs=crs, geometry=geometry).to_crs(epsg=3414)"
   ]
  },
  {
   "cell_type": "markdown",
   "metadata": {},
   "source": [
    "Getting the centriod from the points"
   ]
  },
  {
   "cell_type": "code",
   "execution_count": 6,
   "metadata": {},
   "outputs": [],
   "source": [
    "pts = MultiPoint([row['geometry'] for _, row in gdf.iterrows()])\n",
    "near_cent = nearest_points(pts.centroid, pts)\n",
    "centriod = gdf.distance(near_cent[0]).idxmin()"
   ]
  },
  {
   "cell_type": "markdown",
   "metadata": {},
   "source": [
    "## Generating the time/distance matrix\n",
    "Adding in penalty for road crossing. \n",
    "\n",
    "In the future can modify the release_penalty as well"
   ]
  },
  {
   "cell_type": "code",
   "execution_count": 12,
   "metadata": {
    "lines_to_next_cell": 2
   },
   "outputs": [],
   "source": [
    "penalty_road = 300 # Time penalty for road crossing\n",
    "penalty_water = 450 # time penalty for crossing water body\n",
    "penalty_release = 240 # time needed for each release\n",
    "depot = centriod"
   ]
  },
  {
   "cell_type": "code",
   "execution_count": 31,
   "metadata": {},
   "outputs": [],
   "source": [
    "walking_speed = 90  # m/min\n",
    "euclidean_time_matrix = (euclidean_dist / walking_speed) * 60\n",
    "euclid_matrix = euclidean_dist\n",
    "time_matrix = (\n",
    "    add_release_penalty(euclidean_time_matrix, penalty=penalty_release)\n",
    "    + road_crossed * penalty_road + water_crossed * penalty_water\n",
    ")\n",
    "dist_matrix = euclidean_dist"
   ]
  },
  {
   "cell_type": "markdown",
   "metadata": {},
   "source": [
    "# Plotting the routes"
   ]
  },
  {
   "cell_type": "code",
   "execution_count": 32,
   "metadata": {},
   "outputs": [],
   "source": [
    "current_time_matrix = time_matrix\n",
    "current_distance_matrix = euclidean_dist"
   ]
  },
  {
   "cell_type": "code",
   "execution_count": 38,
   "metadata": {},
   "outputs": [
    {
     "name": "stdout",
     "output_type": "stream",
     "text": [
      "Route for vehicle 0:\n",
      "Blk 240 -> Blk 238 -> Blk 239 -> Blk 237 -> Blk 236 -> Blk 235 -> Blk 233 -> Blk 234 -> Blk 232 -> Blk 227 -> Blk 225 -> Blk 296 -> Blk 297 -> Blk 298 -> Blk 299 -> Blk 224 -> Blk 223 -> Blk 226 -> Blk 216 -> Blk 213 -> Blk 212 -> Blk 211 -> Blk 311\n",
      "Walking distance of the route: 2064.5020870907083m\n",
      "Walking time of the route: 130.93891207878568mins\n",
      "Euclidean distance of the route: 2064.5020870907083m\n",
      "Numbers of block: 23\n",
      "Route for vehicle 1:\n",
      "Blk 306 -> Blk 305 -> Blk 210 -> Blk 209 -> Blk 207 -> Blk 206 -> Blk 214 -> Blk 217 -> Blk 218 -> Blk 219 -> Blk 221 -> Blk 222 -> Blk 220 -> Blk 215 -> Blk 204 -> Blk 205 -> Blk 203 -> Blk 202 -> Blk 208 -> Blk 201 -> Blk 302 -> Blk 303 -> Blk 330 -> Blk 314 -> Blk 310 -> Blk 311\n",
      "Walking distance of the route: 2342.9044835219524m\n",
      "Walking time of the route: 136.03227203913283mins\n",
      "Euclidean distance of the route: 2342.9044835219524m\n",
      "Numbers of block: 26\n",
      "Route for vehicle 2:\n",
      "Blk 309 -> Blk 242 -> Blk 243 -> Blk 256 -> Blk 257 -> Blk 258 -> Blk 269B -> Blk 269A -> Blk 263 -> Blk 262 -> Blk 260 -> Blk 259 -> Blk 261 -> Blk 264 -> Blk 293 -> Blk 292 -> Blk 291 -> Blk 228 -> Blk 229 -> Blk 230 -> Blk 231 -> Blk 241 -> Blk 311\n",
      "Walking distance of the route: 2329.716124527349m\n",
      "Walking time of the route: 133.88573471697052mins\n",
      "Euclidean distance of the route: 2329.716124527349m\n",
      "Numbers of block: 23\n",
      "Route for vehicle 3:\n",
      "Blk 312 -> Blk 329 -> Blk 327 -> Blk 325 -> Blk 326 -> Blk 328 -> Blk 332 -> Blk 342A -> Blk 342B -> Blk 365 -> Blk 363 -> Blk 362 -> Blk 364 -> Blk 344 -> Blk 343 -> Blk 345 -> Blk 346 -> Blk 347A -> Blk 324 -> Blk 323 -> Blk 322 -> Blk 321 -> Blk 320 -> Blk 304 -> Blk 308 -> Blk 311\n",
      "Walking distance of the route: 2033.9599309896507m\n",
      "Walking time of the route: 137.59955478877387mins\n",
      "Euclidean distance of the route: 2033.9599309896507m\n",
      "Numbers of block: 26\n",
      "Route for vehicle 4:\n",
      "Blk 331 -> Blk 342C -> Blk 367 -> Blk 366 -> Blk 361 -> Blk 360 -> Blk 359 -> Blk 358 -> Blk 357 -> Blk 356 -> Blk 354 -> Blk 353 -> Blk 352 -> Blk 355A -> Blk 355 -> Blk 350 -> Blk 350A -> Blk 351 -> Blk 349 -> Blk 348D -> Blk 347B -> Blk 348C -> Blk 348B -> Blk 348A -> Blk 311\n",
      "Walking distance of the route: 2166.248712941591m\n",
      "Walking time of the route: 135.06943014379544mins\n",
      "Euclidean distance of the route: 2166.248712941591m\n",
      "Numbers of block: 25\n",
      "Route for vehicle 5:\n",
      "Blk 315A -> Blk 316B -> Blk 316A -> Blk 244 -> Blk 255 -> Blk 254 -> Blk 253 -> Blk 252 -> Blk 251 -> Blk 249 -> Blk 250 -> Blk 248 -> Blk 246 -> Blk 247 -> Blk 245 -> Blk 317B -> Blk 317C -> Blk 317A -> Blk 318A -> Blk 318B -> Blk 318C -> Blk 316C -> Blk 315C -> Blk 315B -> Blk 311\n",
      "Walking distance of the route: 1742.0984776675502m\n",
      "Walking time of the route: 130.35664975186168mins\n",
      "Euclidean distance of the route: 1742.0984776675502m\n",
      "Numbers of block: 25\n",
      "Maximum of the euclidean distances: 2342.9044835219524m\n",
      "Maximum of the route duration: 137.59955478877387mins\n",
      "CPU times: user 2min 4s, sys: 12.1 ms, total: 2min 4s\n",
      "Wall time: 2min 4s\n"
     ]
    }
   ],
   "source": [
    "%%time\n",
    "\"\"\"Solve the CVRP problem.\"\"\"\n",
    "# Instantiate the data problem.\n",
    "\"\"\"Stores the data for the problem.\"\"\"\n",
    "data = {}\n",
    "data[\"distance_matrix\"] = current_time_matrix\n",
    "data[\"num_vehicles\"] = 6\n",
    "data[\"depot\"] = depot\n",
    "\n",
    "solution, manager, routing = vrp_solver(data)\n",
    "\n",
    "# Print solution on console.\n",
    "data[\"time_matrix\"] = current_time_matrix\n",
    "data[\"dist_matrix\"] = current_distance_matrix\n",
    "data[\"df\"] = df\n",
    "data[\"euclid_matrix\"] = euclidean_dist\n",
    "if solution:\n",
    "    full_route = generate_readable_solution(\n",
    "        data,\n",
    "        manager,\n",
    "        routing,\n",
    "        solution,\n",
    "    )"
   ]
  },
  {
   "cell_type": "code",
   "execution_count": 39,
   "metadata": {},
   "outputs": [
    {
     "data": {
      "text/html": [
       "<div style=\"width:100%;\"><div style=\"position:relative;width:100%;height:0;padding-bottom:60%;\"><iframe src=\"data:text/html;charset=utf-8;base64,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\" style=\"position:absolute;width:100%;height:100%;left:0;top:0;border:none !important;\" allowfullscreen webkitallowfullscreen mozallowfullscreen></iframe></div></div>"
      ],
      "text/plain": [
       "<folium.folium.Map at 0x7f93ac857c50>"
      ]
     },
     "execution_count": 39,
     "metadata": {},
     "output_type": "execute_result"
    }
   ],
   "source": [
    "mapa = set_up_map(data, manager, routing, solution)\n",
    "mapa"
   ]
  },
  {
   "cell_type": "markdown",
   "metadata": {},
   "source": [
    "# Arbitrary start and end point"
   ]
  },
  {
   "cell_type": "code",
   "execution_count": 11,
   "metadata": {},
   "outputs": [],
   "source": [
    "current_time_matrix = np.zeros((num_blocks + 1, num_blocks + 1))\n",
    "current_time_matrix[:num_blocks, :num_blocks] = (\n",
    "    add_release_penalty(euclidean_time_matrix, penalty=penalty_release)\n",
    "    + road_crossed * penalty_road + water_crossed * penalty_water\n",
    ")\n",
    "current_distance_matrix = np.zeros((num_blocks + 1, num_blocks + 1))\n",
    "current_distance_matrix[:num_blocks, :num_blocks] = euclidean_dist\n",
    "current_euclid_matrix = np.zeros((num_blocks + 1, num_blocks + 1))\n",
    "current_euclid_matrix[:num_blocks, :num_blocks] = euclidean_dist\n",
    "df_append = df.copy()\n",
    "df_append = df_append.append(\n",
    "    {\"Block\": \"Dummy\", \"lat\": None, \"long\": None}, ignore_index=True\n",
    ")"
   ]
  },
  {
   "cell_type": "code",
   "execution_count": 12,
   "metadata": {},
   "outputs": [
    {
     "name": "stdout",
     "output_type": "stream",
     "text": [
      "Route for vehicle 0:\n",
      "Blk 362 -> Blk 344 -> Blk 364 -> Blk 365 -> Blk 363 -> Blk 366 -> Blk 361 -> Blk 360 -> Blk 359 -> Blk 358 -> Blk 357 -> Blk 352 -> Blk 353 -> Blk 354 -> Blk 356 -> Blk 355 -> Blk 350 -> Blk 355A -> Blk 350A -> Blk 351 -> Blk 349 -> Blk 348D -> Blk Dummy\n",
      "Walking distance of the route: 1402.7385907649348m\n",
      "Walking time of the route: 120.58598434183259mins\n",
      "Euclidean distance of the route: 1402.7385907649348m\n",
      "Numbers of block: 23\n",
      "Route for vehicle 1:\n",
      "Blk 367 -> Blk 342B -> Blk 342A -> Blk 342C -> Blk 343 -> Blk 345 -> Blk 346 -> Blk 347A -> Blk 347B -> Blk 348C -> Blk 348B -> Blk 348A -> Blk 324 -> Blk 325 -> Blk 327 -> Blk 329 -> Blk 315B -> Blk 315A -> Blk 315C -> Blk Dummy\n",
      "Walking distance of the route: 1485.7461298828343m\n",
      "Walking time of the route: 121.50829033203148mins\n",
      "Euclidean distance of the route: 1485.7461298828343m\n",
      "Numbers of block: 20\n",
      "Route for vehicle 2:\n",
      "Blk 241 -> Blk 240 -> Blk 238 -> Blk 239 -> Blk 237 -> Blk 236 -> Blk 235 -> Blk 233 -> Blk 234 -> Blk 232 -> Blk 231 -> Blk 230 -> Blk 227 -> Blk 229 -> Blk 228 -> Blk 293 -> Blk 292 -> Blk 291 -> Blk 296 -> Blk 297 -> Blk Dummy\n",
      "Walking distance of the route: 1430.1966058208257m\n",
      "Walking time of the route: 120.89107339800918mins\n",
      "Euclidean distance of the route: 1430.1966058208257m\n",
      "Numbers of block: 21\n",
      "Route for vehicle 3:\n",
      "Blk 323 -> Blk 322 -> Blk 302 -> Blk 303 -> Blk 304 -> Blk 308 -> Blk 306 -> Blk 305 -> Blk 210 -> Blk 201 -> Blk 208 -> Blk 209 -> Blk 212 -> Blk 211 -> Blk 242 -> Blk 243 -> Blk 244 -> Blk 252 -> Blk 251 -> Blk Dummy\n",
      "Walking distance of the route: 1571.5791977733684m\n",
      "Walking time of the route: 122.46199108637076mins\n",
      "Euclidean distance of the route: 1571.5791977733684m\n",
      "Numbers of block: 20\n",
      "Route for vehicle 4:\n",
      "Blk 321 -> Blk 320 -> Blk 326 -> Blk 328 -> Blk 332 -> Blk 331 -> Blk 330 -> Blk 314 -> Blk 312 -> Blk 311 -> Blk 309 -> Blk 310 -> Blk 316B -> Blk 316A -> Blk 317C -> Blk 317B -> Blk 317A -> Blk 318A -> Blk 318B -> Blk 318C -> Blk 316C -> Blk Dummy\n",
      "Walking distance of the route: 1473.028615571506m\n",
      "Walking time of the route: 121.36698461746118mins\n",
      "Euclidean distance of the route: 1473.028615571506m\n",
      "Numbers of block: 22\n",
      "Route for vehicle 5:\n",
      "Blk 258 -> Blk 260 -> Blk 262 -> Blk 263 -> Blk 264 -> Blk 261 -> Blk 259 -> Blk 257 -> Blk 256 -> Blk 255 -> Blk 254 -> Blk 253 -> Blk 250 -> Blk 249 -> Blk 247 -> Blk 245 -> Blk 246 -> Blk 248 -> Blk 269B -> Blk 269A -> Blk Dummy\n",
      "Walking distance of the route: 1266.714523183139m\n",
      "Walking time of the route: 109.074605813146mins\n",
      "Euclidean distance of the route: 1266.714523183139m\n",
      "Numbers of block: 21\n",
      "Route for vehicle 6:\n",
      "Blk 202 -> Blk 207 -> Blk 206 -> Blk 203 -> Blk 205 -> Blk 204 -> Blk 215 -> Blk 214 -> Blk 213 -> Blk 216 -> Blk 217 -> Blk 218 -> Blk 219 -> Blk 221 -> Blk 220 -> Blk 222 -> Blk 223 -> Blk 226 -> Blk 225 -> Blk 224 -> Blk 298 -> Blk 299 -> Blk Dummy\n",
      "Walking distance of the route: 1343.8567100005964m\n",
      "Walking time of the route: 124.93174122222885mins\n",
      "Euclidean distance of the route: 1343.8567100005964m\n",
      "Numbers of block: 23\n",
      "Maximum of the euclidean distances: 1571.5791977733684m\n",
      "Maximum of the route duration: 124.93174122222885mins\n"
     ]
    },
    {
     "data": {
      "text/html": [
       "<div style=\"width:100%;\"><div style=\"position:relative;width:100%;height:0;padding-bottom:60%;\"><iframe src=\"data:text/html;charset=utf-8;base64,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\" style=\"position:absolute;width:100%;height:100%;left:0;top:0;border:none !important;\" allowfullscreen webkitallowfullscreen mozallowfullscreen></iframe></div></div>"
      ],
      "text/plain": [
       "<folium.folium.Map at 0x7f3b3fbcda90>"
      ]
     },
     "metadata": {},
     "output_type": "display_data"
    }
   ],
   "source": [
    "\"\"\"Solve the CVRP problem.\"\"\"\n",
    "# Instantiate the data problem.\n",
    "\"\"\"Stores the data for the problem.\"\"\"\n",
    "data = {}\n",
    "data[\"distance_matrix\"] = current_time_matrix\n",
    "data[\"num_vehicles\"] = 7\n",
    "data[\"depot\"] = num_blocks\n",
    "\n",
    "# Create the routing index manager.\n",
    "solution, manager, routing = vrp_solver(data)\n",
    "data[\"time_matrix\"] = current_time_matrix\n",
    "data[\"dist_matrix\"] = current_distance_matrix\n",
    "data[\"df\"] = df_append\n",
    "data[\"euclid_matrix\"] = current_euclid_matrix\n",
    "# Print solution on console.\n",
    "if solution:\n",
    "    full_route = generate_readable_solution(\n",
    "        data,\n",
    "        manager,\n",
    "        routing,\n",
    "        solution,\n",
    "    )\n",
    "\n",
    "mapa = set_up_map(data, manager, routing, solution)\n",
    "display(mapa)"
   ]
  },
  {
   "cell_type": "code",
   "execution_count": 13,
   "metadata": {},
   "outputs": [
    {
     "data": {
      "text/html": [
       "<div style=\"width:100%;\"><div style=\"position:relative;width:100%;height:0;padding-bottom:60%;\"><iframe src=\"data:text/html;charset=utf-8;base64,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\" style=\"position:absolute;width:100%;height:100%;left:0;top:0;border:none !important;\" allowfullscreen webkitallowfullscreen mozallowfullscreen></iframe></div></div>"
      ],
      "text/plain": [
       "<folium.folium.Map at 0x7f3b3f502650>"
      ]
     },
     "metadata": {},
     "output_type": "display_data"
    }
   ],
   "source": [
    "mapa = set_up_map(data, manager, routing, solution)\n",
    "display(mapa)"
   ]
  },
  {
   "cell_type": "markdown",
   "metadata": {},
   "source": [
    "# Looping to minimise distance travelled for all\n",
    "\n",
    "Current method only optimise the longest travelling time and not of the others, so looping to minimise the distance should give better results. \n",
    "\n",
    "*Unfortunately this is not the case.*"
   ]
  },
  {
   "cell_type": "code",
   "execution_count": null,
   "metadata": {},
   "outputs": [],
   "source": [
    "current_time_matrix = time_matrix_10min"
   ]
  },
  {
   "cell_type": "code",
   "execution_count": null,
   "metadata": {},
   "outputs": [],
   "source": [
    "\"\"\"Solve the CVRP problem.\"\"\"\n",
    "# Instantiate the data problem.\n",
    "\"\"\"Stores the data for the problem.\"\"\"\n",
    "data = {}\n",
    "data[\"distance_matrix\"] = current_time_matrix\n",
    "data[\"num_vehicles\"] = 6\n",
    "data[\"depot\"] = 37\n",
    "df_tmp = df.copy()\n",
    "\n",
    "while data[\"num_vehicles\"] > 2:\n",
    "    # Create the routing index manager.\n",
    "    solution, manager, routing = vrp_solver(data)\n",
    "\n",
    "    # Print solution on console.\n",
    "    if solution:\n",
    "        data[\"df\"] = df_tmp\n",
    "        data[\"time_matrix\"] = current_time_matrix\n",
    "        print(\"SOLUTIONS\\n\")\n",
    "        full_route = generate_readable_solution(data, manager, routing, solution)\n",
    "        max_route_id = np.argmax(full_route[\"time\"])\n",
    "        print(\"\\nMax\\n\")\n",
    "        print(full_route[\"route_print\"][max_route_id])\n",
    "        max_route = full_route[\"route\"][max_route_id][1:-1]\n",
    "        df_tmp = df_tmp.drop(max_route)\n",
    "        df_tmp = df_tmp.reset_index(drop=True)\n",
    "        current_time_matrix = np.delete(current_time_matrix, max_route, 0)\n",
    "        current_time_matrix = np.delete(current_time_matrix, max_route, 1)\n",
    "        data[\"distance_matrix\"] = current_time_matrix\n",
    "        data[\"num_vehicles\"] = data[\"num_vehicles\"] - 1\n",
    "        data[\"depot\"] = data[\"depot\"] - sum([(i < data[\"depot\"]) for i in max_route])\n",
    "    else:\n",
    "        break"
   ]
  }
 ],
 "metadata": {
  "jupytext": {
   "encoding": "# -*- coding: utf-8 -*-",
   "text_representation": {
    "extension": ".py",
    "format_name": "percent",
    "format_version": "1.2",
    "jupytext_version": "1.2.3"
   }
  },
  "kernelspec": {
   "display_name": "Python 3",
   "language": "python",
   "name": "python3"
  },
  "language_info": {
   "codemirror_mode": {
    "name": "ipython",
    "version": 3
   },
   "file_extension": ".py",
   "mimetype": "text/x-python",
   "name": "python",
   "nbconvert_exporter": "python",
   "pygments_lexer": "ipython3",
   "version": "3.7.4"
  }
 },
 "nbformat": 4,
 "nbformat_minor": 4
}
