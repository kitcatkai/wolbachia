{
 "cells": [
  {
   "cell_type": "code",
   "execution_count": 1,
   "metadata": {},
   "outputs": [],
   "source": [
    "import pandas as pd\n",
    "import json\n",
    "import requests\n",
    "import math\n",
    "import numpy as np\n",
    "from haversine import haversine\n",
    "\n",
    "with open(\"config.json\") as f:\n",
    "    settings = json.load(f)"
   ]
  },
  {
   "cell_type": "markdown",
   "metadata": {},
   "source": [
    "# Getting the distance and time Matrix\n",
    "Should only be run once and the output is saved to reduce call to Google api."
   ]
  },
  {
   "cell_type": "code",
   "execution_count": 2,
   "metadata": {
    "scrolled": true
   },
   "outputs": [
    {
     "data": {
      "text/html": [
       "<div>\n",
       "<style scoped>\n",
       "    .dataframe tbody tr th:only-of-type {\n",
       "        vertical-align: middle;\n",
       "    }\n",
       "\n",
       "    .dataframe tbody tr th {\n",
       "        vertical-align: top;\n",
       "    }\n",
       "\n",
       "    .dataframe thead th {\n",
       "        text-align: right;\n",
       "    }\n",
       "</style>\n",
       "<table border=\"1\" class=\"dataframe\">\n",
       "  <thead>\n",
       "    <tr style=\"text-align: right;\">\n",
       "      <th></th>\n",
       "      <th>Location</th>\n",
       "      <th>Postal Code</th>\n",
       "      <th>Block</th>\n",
       "      <th>ReleaseLocation</th>\n",
       "      <th>NumRelease</th>\n",
       "    </tr>\n",
       "  </thead>\n",
       "  <tbody>\n",
       "    <tr>\n",
       "      <td>0</td>\n",
       "      <td>YISHUN STREET 21</td>\n",
       "      <td>760201.0</td>\n",
       "      <td>201</td>\n",
       "      <td>51,53</td>\n",
       "      <td>2</td>\n",
       "    </tr>\n",
       "    <tr>\n",
       "      <td>1</td>\n",
       "      <td>YISHUN STREET 21</td>\n",
       "      <td>760201.0</td>\n",
       "      <td>201</td>\n",
       "      <td>55,57</td>\n",
       "      <td>2</td>\n",
       "    </tr>\n",
       "    <tr>\n",
       "      <td>2</td>\n",
       "      <td>YISHUN STREET 21</td>\n",
       "      <td>760201.0</td>\n",
       "      <td>201</td>\n",
       "      <td>59,61</td>\n",
       "      <td>2</td>\n",
       "    </tr>\n",
       "    <tr>\n",
       "      <td>3</td>\n",
       "      <td>YISHUN STREET 21</td>\n",
       "      <td>760201.0</td>\n",
       "      <td>201</td>\n",
       "      <td>63,65</td>\n",
       "      <td>2</td>\n",
       "    </tr>\n",
       "    <tr>\n",
       "      <td>4</td>\n",
       "      <td>YISHUN STREET 21</td>\n",
       "      <td>760201.0</td>\n",
       "      <td>201</td>\n",
       "      <td>67,69</td>\n",
       "      <td>2</td>\n",
       "    </tr>\n",
       "    <tr>\n",
       "      <td>...</td>\n",
       "      <td>...</td>\n",
       "      <td>...</td>\n",
       "      <td>...</td>\n",
       "      <td>...</td>\n",
       "      <td>...</td>\n",
       "    </tr>\n",
       "    <tr>\n",
       "      <td>395</td>\n",
       "      <td>YISHUN RING ROAD</td>\n",
       "      <td>760312.0</td>\n",
       "      <td>312</td>\n",
       "      <td>1216,1218</td>\n",
       "      <td>2</td>\n",
       "    </tr>\n",
       "    <tr>\n",
       "      <td>396</td>\n",
       "      <td>YISHUN RING ROAD</td>\n",
       "      <td>760314.0</td>\n",
       "      <td>314</td>\n",
       "      <td>1180,1182</td>\n",
       "      <td>2</td>\n",
       "    </tr>\n",
       "    <tr>\n",
       "      <td>397</td>\n",
       "      <td>YISHUN RING ROAD</td>\n",
       "      <td>760314.0</td>\n",
       "      <td>314</td>\n",
       "      <td>1184,1186</td>\n",
       "      <td>2</td>\n",
       "    </tr>\n",
       "    <tr>\n",
       "      <td>398</td>\n",
       "      <td>YISHUN RING ROAD</td>\n",
       "      <td>760314.0</td>\n",
       "      <td>314</td>\n",
       "      <td>1188,1190</td>\n",
       "      <td>2</td>\n",
       "    </tr>\n",
       "    <tr>\n",
       "      <td>399</td>\n",
       "      <td>YISHUN RING ROAD</td>\n",
       "      <td>760314.0</td>\n",
       "      <td>314</td>\n",
       "      <td>1190,1192</td>\n",
       "      <td>2</td>\n",
       "    </tr>\n",
       "  </tbody>\n",
       "</table>\n",
       "<p>400 rows × 5 columns</p>\n",
       "</div>"
      ],
      "text/plain": [
       "             Location  Postal Code Block ReleaseLocation  NumRelease\n",
       "0    YISHUN STREET 21     760201.0   201           51,53           2\n",
       "1    YISHUN STREET 21     760201.0   201           55,57           2\n",
       "2    YISHUN STREET 21     760201.0   201           59,61           2\n",
       "3    YISHUN STREET 21     760201.0   201           63,65           2\n",
       "4    YISHUN STREET 21     760201.0   201           67,69           2\n",
       "..                ...          ...   ...             ...         ...\n",
       "395  YISHUN RING ROAD     760312.0   312       1216,1218           2\n",
       "396  YISHUN RING ROAD     760314.0   314       1180,1182           2\n",
       "397  YISHUN RING ROAD     760314.0   314       1184,1186           2\n",
       "398  YISHUN RING ROAD     760314.0   314       1188,1190           2\n",
       "399  YISHUN RING ROAD     760314.0   314       1190,1192           2\n",
       "\n",
       "[400 rows x 5 columns]"
      ]
     },
     "metadata": {},
     "output_type": "display_data"
    }
   ],
   "source": [
    "# Reading in the release data\n",
    "release_pts = pd.read_excel(\"Yishun Wolbachia Release Points.xlsx\")\n",
    "release_pts[\"NumRelease\"] = release_pts[\"ReleaseLocation\"].str.split(\",\").apply(len)\n",
    "release_pts[\"Block\"] = release_pts[\"Block\"].astype(\"str\")\n",
    "release_pts[\"Block\"] = release_pts[\"Block\"].str.replace(\".Bin Centre\", \"\")\n",
    "display(release_pts)"
   ]
  },
  {
   "cell_type": "code",
   "execution_count": 3,
   "metadata": {},
   "outputs": [],
   "source": [
    "def count_release(df_input):\n",
    "    \"\"\" Getting the number of release points at each block\n",
    "    \"\"\"\n",
    "    output = {\"Road\": df_input.iloc[0, 0], \"NumRelease\": df_input[\"NumRelease\"].sum()}\n",
    "    return pd.Series(output)"
   ]
  },
  {
   "cell_type": "code",
   "execution_count": 4,
   "metadata": {
    "scrolled": true
   },
   "outputs": [
    {
     "data": {
      "text/html": [
       "<div>\n",
       "<style scoped>\n",
       "    .dataframe tbody tr th:only-of-type {\n",
       "        vertical-align: middle;\n",
       "    }\n",
       "\n",
       "    .dataframe tbody tr th {\n",
       "        vertical-align: top;\n",
       "    }\n",
       "\n",
       "    .dataframe thead th {\n",
       "        text-align: right;\n",
       "    }\n",
       "</style>\n",
       "<table border=\"1\" class=\"dataframe\">\n",
       "  <thead>\n",
       "    <tr style=\"text-align: right;\">\n",
       "      <th></th>\n",
       "      <th>Block</th>\n",
       "      <th>Road</th>\n",
       "      <th>NumRelease</th>\n",
       "      <th>address</th>\n",
       "      <th>location</th>\n",
       "    </tr>\n",
       "  </thead>\n",
       "  <tbody>\n",
       "    <tr>\n",
       "      <td>0</td>\n",
       "      <td>201</td>\n",
       "      <td>YISHUN STREET 21</td>\n",
       "      <td>10</td>\n",
       "      <td>201+YISHUN+STREET+21</td>\n",
       "      <td>None</td>\n",
       "    </tr>\n",
       "    <tr>\n",
       "      <td>1</td>\n",
       "      <td>202</td>\n",
       "      <td>YISHUN STREET 21</td>\n",
       "      <td>10</td>\n",
       "      <td>202+YISHUN+STREET+21</td>\n",
       "      <td>None</td>\n",
       "    </tr>\n",
       "    <tr>\n",
       "      <td>2</td>\n",
       "      <td>203</td>\n",
       "      <td>YISHUN STREET 21</td>\n",
       "      <td>10</td>\n",
       "      <td>203+YISHUN+STREET+21</td>\n",
       "      <td>None</td>\n",
       "    </tr>\n",
       "    <tr>\n",
       "      <td>3</td>\n",
       "      <td>204</td>\n",
       "      <td>YISHUN STREET 21</td>\n",
       "      <td>10</td>\n",
       "      <td>204+YISHUN+STREET+21</td>\n",
       "      <td>None</td>\n",
       "    </tr>\n",
       "    <tr>\n",
       "      <td>4</td>\n",
       "      <td>205</td>\n",
       "      <td>YISHUN STREET 21</td>\n",
       "      <td>10</td>\n",
       "      <td>205+YISHUN+STREET+21</td>\n",
       "      <td>None</td>\n",
       "    </tr>\n",
       "    <tr>\n",
       "      <td>...</td>\n",
       "      <td>...</td>\n",
       "      <td>...</td>\n",
       "      <td>...</td>\n",
       "      <td>...</td>\n",
       "      <td>...</td>\n",
       "    </tr>\n",
       "    <tr>\n",
       "      <td>79</td>\n",
       "      <td>309</td>\n",
       "      <td>YISHUN RING ROAD</td>\n",
       "      <td>11</td>\n",
       "      <td>309+YISHUN+RING+ROAD</td>\n",
       "      <td>None</td>\n",
       "    </tr>\n",
       "    <tr>\n",
       "      <td>80</td>\n",
       "      <td>310</td>\n",
       "      <td>YISHUN RING ROAD</td>\n",
       "      <td>6</td>\n",
       "      <td>310+YISHUN+RING+ROAD</td>\n",
       "      <td>None</td>\n",
       "    </tr>\n",
       "    <tr>\n",
       "      <td>81</td>\n",
       "      <td>311</td>\n",
       "      <td>YISHUN RING ROAD</td>\n",
       "      <td>12</td>\n",
       "      <td>311+YISHUN+RING+ROAD</td>\n",
       "      <td>None</td>\n",
       "    </tr>\n",
       "    <tr>\n",
       "      <td>82</td>\n",
       "      <td>312</td>\n",
       "      <td>YISHUN RING ROAD</td>\n",
       "      <td>12</td>\n",
       "      <td>312+YISHUN+RING+ROAD</td>\n",
       "      <td>None</td>\n",
       "    </tr>\n",
       "    <tr>\n",
       "      <td>83</td>\n",
       "      <td>314</td>\n",
       "      <td>YISHUN RING ROAD</td>\n",
       "      <td>8</td>\n",
       "      <td>314+YISHUN+RING+ROAD</td>\n",
       "      <td>None</td>\n",
       "    </tr>\n",
       "  </tbody>\n",
       "</table>\n",
       "<p>84 rows × 5 columns</p>\n",
       "</div>"
      ],
      "text/plain": [
       "   Block              Road  NumRelease               address location\n",
       "0    201  YISHUN STREET 21          10  201+YISHUN+STREET+21     None\n",
       "1    202  YISHUN STREET 21          10  202+YISHUN+STREET+21     None\n",
       "2    203  YISHUN STREET 21          10  203+YISHUN+STREET+21     None\n",
       "3    204  YISHUN STREET 21          10  204+YISHUN+STREET+21     None\n",
       "4    205  YISHUN STREET 21          10  205+YISHUN+STREET+21     None\n",
       "..   ...               ...         ...                   ...      ...\n",
       "79   309  YISHUN RING ROAD          11  309+YISHUN+RING+ROAD     None\n",
       "80   310  YISHUN RING ROAD           6  310+YISHUN+RING+ROAD     None\n",
       "81   311  YISHUN RING ROAD          12  311+YISHUN+RING+ROAD     None\n",
       "82   312  YISHUN RING ROAD          12  312+YISHUN+RING+ROAD     None\n",
       "83   314  YISHUN RING ROAD           8  314+YISHUN+RING+ROAD     None\n",
       "\n",
       "[84 rows x 5 columns]"
      ]
     },
     "metadata": {},
     "output_type": "display_data"
    }
   ],
   "source": [
    "df = release_pts.groupby(\"Block\").apply(count_release).reset_index()\n",
    "df[\"address\"] = df[\"Block\"] + \"+\" + df[\"Road\"].str.replace(\" \", \"+\")\n",
    "df[\"location\"] = None\n",
    "display(df)"
   ]
  },
  {
   "cell_type": "code",
   "execution_count": 307,
   "metadata": {},
   "outputs": [],
   "source": [
    "url = \"https://maps.googleapis.com/maps/api/geocode/json\"\n",
    "\n",
    "for each in range(num_blonum_blocks):\n",
    "    if not df.loc[each, \"location\"]:\n",
    "        params = dict(address=df.loc[each, \"address\"], key=settings[\"api_key\"])\n",
    "        resp = requests.get(url=url, params=params)\n",
    "        data = resp.json()\n",
    "        try:\n",
    "            df.loc[each, \"location\"] = (\n",
    "                str(data[\"results\"][0][\"geometry\"][\"location\"][\"lat\"])\n",
    "                + \",\"\n",
    "                + str(data[\"results\"][0][\"geometry\"][\"location\"][\"lng\"])\n",
    "            )\n",
    "        except:\n",
    "            print(each)\n",
    "            print(data)\n",
    "\n",
    "df.to_pickle(\"block_with_geoloc.pickle\")"
   ]
  },
  {
   "cell_type": "code",
   "execution_count": 6,
   "metadata": {},
   "outputs": [
    {
     "data": {
      "text/plain": [
       "['201+YISHUN+STREET+21|202+YISHUN+STREET+21|203+YISHUN+STREET+21|204+YISHUN+STREET+21|205+YISHUN+STREET+21|206+YISHUN+STREET+21|207+YISHUN+STREET+21|208+YISHUN+STREET+21|209+YISHUN+STREET+21|210+YISHUN+STREET+21|211+YISHUN+STREET+21|212+YISHUN+STREET+21|213+YISHUN+STREET+21|214+YISHUN+STREET+21|215+YISHUN+STREET+21|216+YISHUN+STREET+21|217+YISHUN+STREET+21|218+YISHUN+STREET+21|219+YISHUN+STREET+21|220+YISHUN+STREET+21|221+YISHUN+STREET+21|222+YISHUN+STREET+21|223+YISHUN+STREET+21|224+YISHUN+STREET+21|225+YISHUN+STREET+21|',\n",
       " '226+YISHUN+STREET+21|227+YISHUN+STREET+21|228+YISHUN+STREET+21|229+YISHUN+STREET+21|230+YISHUN+STREET+21|231+YISHUN+STREET+21|232+YISHUN+STREET+21|233+YISHUN+STREET+21|234+YISHUN+STREET+21|235+YISHUN+STREET+21|236+YISHUN+RING+ROAD|237+YISHUN+RING+ROAD|238+YISHUN+RING+ROAD|239+YISHUN+RING+ROAD|240+YISHUN+RING+ROAD|241+YISHUN+RING+ROAD|242+YISHUN+RING+ROAD|243+YISHUN+RING+ROAD|244+YISHUN+RING+ROAD|245+YISHUN+AVENUE+9|246+YISHUN+AVENUE+9|247+YISHUN+AVENUE+9|248+YISHUN+AVENUE+9|249+YISHUN+AVENUE+9|250+YISHUN+AVENUE+9|',\n",
       " '251+YISHUN+RING+ROAD|252+YISHUN+RING+ROAD|253+YISHUN+RING+ROAD|254+YISHUN+RING+ROAD|255+YISHUN+RING+ROAD|256+YISHUN+RING+ROAD|257+YISHUN+RING+ROAD|258+YISHUN+STREET+22|259+YISHUN+STREET+22|260+YISHUN+STREET+22|261+YISHUN+STREET+22|262+YISHUN+STREET+22|263+YISHUN+STREET+22|264+YISHUN+STREET+22|269A+YISHUN+STREET+22|269B+YISHUN+STREET+22|291+YISHUN+STREET+22|292+YISHUN+STREET+22|293+YISHUN+STREET+22|296+YISHUN+STREET+20|297+YISHUN+STREET+20|298+YISHUN+STREET+20|299+YISHUN+STREET+20|302+YISHUN+CENTRAL|303+YISHUN+CENTRAL|',\n",
       " '304+YISHUN+CENTRAL|305+YISHUN+CENTRAL|306+YISHUN+CENTRAL|308+YISHUN+RING+ROAD|309+YISHUN+RING+ROAD|310+YISHUN+RING+ROAD|311+YISHUN+RING+ROAD|312+YISHUN+RING+ROAD|314+YISHUN+RING+ROAD|']"
      ]
     },
     "execution_count": 6,
     "metadata": {},
     "output_type": "execute_result"
    }
   ],
   "source": [
    "# splitting the addresses into multiple string due to api limit\n",
    "\n",
    "arr = \"\"\n",
    "arr_total = []\n",
    "count = 0\n",
    "for index, row in df.iterrows():\n",
    "    count += 1\n",
    "    arr += str(row[\"address\"]) + \"|\"\n",
    "    if count >= 25:\n",
    "        arr_total.append(arr)\n",
    "        count = 0\n",
    "        arr = \"\"\n",
    "if count != 0:\n",
    "    arr_total.append(arr)\n",
    "arr_total"
   ]
  },
  {
   "cell_type": "code",
   "execution_count": null,
   "metadata": {
    "lines_to_next_cell": 2
   },
   "outputs": [],
   "source": [
    "# WILL RUN FOR 2 MINS AT MAX\n",
    "\n",
    "num_blocks = len(df)\n",
    "time_matrix = np.zeros((num_blocks, num_blocks))\n",
    "time_array = []\n",
    "dist_matrix = np.zeros((num_blocks, num_blocks))\n",
    "dist_array = []\n",
    "\n",
    "url_google_route = \"https://maps.googleapis.com/maps/api/distancematrix/json\"\n",
    "\n",
    "\n",
    "for each_index in range(len(df)):\n",
    "    time_array = []\n",
    "    dist_array = []\n",
    "    print(\"Inititaing \" + str(each_index) + \"/83 first...\")\n",
    "    for index, dest_input in enumerate(arr_total):\n",
    "        params = dict(\n",
    "            destinations=dest_input,\n",
    "            origins=df.iloc[each_index][\"address\"],\n",
    "            key=settings[\"api_key\"],\n",
    "            mode=\"walking\",\n",
    "        )\n",
    "        resp = requests.get(url=url_google_route, params=params)\n",
    "        data = resp.json()\n",
    "        for each in range(len(data[\"rows\"][0][\"elements\"])):\n",
    "            if data[\"rows\"][0][\"elements\"][each][\"status\"] == \"OK\":\n",
    "                time_array.append(\n",
    "                    data[\"rows\"][0][\"elements\"][each][\"duration\"][\"value\"]\n",
    "                )\n",
    "                dist_array.append(\n",
    "                    data[\"rows\"][0][\"elements\"][each][\"distance\"][\"value\"]\n",
    "                )\n",
    "            else:\n",
    "                print(each)\n",
    "                print(\"Origin: {}, Destination: \".format(data[\"origin_addresses\"][0]))\n",
    "                print(data)\n",
    "    print(each_index)\n",
    "    time_matrix[each_index] = time_array\n",
    "    dist_matrix[each_index] = dist_array"
   ]
  },
  {
   "cell_type": "code",
   "execution_count": 84,
   "metadata": {
    "scrolled": true
   },
   "outputs": [],
   "source": [
    "np.save(\"time_matrix.npy\", time_matrix)\n",
    "np.save(\"dist_matrix.npy\", dist_matrix)"
   ]
  },
  {
   "cell_type": "markdown",
   "metadata": {},
   "source": [
    "# Loading the processed data"
   ]
  },
  {
   "cell_type": "code",
   "execution_count": 1,
   "metadata": {},
   "outputs": [],
   "source": [
    "import pandas as pd\n",
    "import json\n",
    "import requests\n",
    "import math\n",
    "import numpy as np\n",
    "from haversine import haversine"
   ]
  },
  {
   "cell_type": "code",
   "execution_count": 2,
   "metadata": {},
   "outputs": [],
   "source": [
    "time_matrix = np.load(\"time_matrix.npy\")\n",
    "dist_matrix = np.load(\"dist_matrix.npy\")\n",
    "df = pd.read_pickle(\"block_with_geoloc.pickle\")\n",
    "num_blocks = len(df)"
   ]
  },
  {
   "cell_type": "code",
   "execution_count": 3,
   "metadata": {},
   "outputs": [],
   "source": [
    "df[\"Lat\"] = df[\"location\"].str.split(\",\").apply(lambda x: float(x[0]))\n",
    "df[\"Lon\"] = df[\"location\"].str.split(\",\").apply(lambda x: float(x[1]))\n",
    "latlong = list(zip(df[\"Lon\"], df[\"Lat\"]))"
   ]
  },
  {
   "cell_type": "markdown",
   "metadata": {},
   "source": [
    "Getting the euclidean distance"
   ]
  },
  {
   "cell_type": "code",
   "execution_count": 4,
   "metadata": {},
   "outputs": [],
   "source": [
    "euclidean_dist = np.zeros((num_blocks, num_blocks))\n",
    "for idx, loc in enumerate(latlong):\n",
    "    euclidean_dist[idx] = [\n",
    "        haversine((loc[1], loc[0]), (loc_[1], loc_[0])) * 1000 for loc_ in latlong\n",
    "    ]\n",
    "euclid_matrix = euclidean_dist"
   ]
  },
  {
   "cell_type": "code",
   "execution_count": 5,
   "metadata": {},
   "outputs": [],
   "source": [
    "walking_speed = 90  # m/min\n",
    "euclidean_time_matrix = (euclidean_dist / walking_speed) * 60"
   ]
  },
  {
   "cell_type": "markdown",
   "metadata": {},
   "source": [
    "# Getting the number of roads crossed"
   ]
  },
  {
   "cell_type": "code",
   "execution_count": 6,
   "metadata": {},
   "outputs": [],
   "source": [
    "import geopandas as gpd\n",
    "import numpy as np\n",
    "from shapely.geometry import LineString, Point\n",
    "import folium"
   ]
  },
  {
   "cell_type": "code",
   "execution_count": 7,
   "metadata": {},
   "outputs": [],
   "source": [
    "# Getting the first point and converting it to local coordinate\n",
    "first_point = gpd.GeoSeries([Point(latlong[0])], crs={\"init\": \"epsg:4326\"}) \\\n",
    "                 .to_crs(epsg=3414)\n",
    "area_of_interest = first_point.geometry[0].buffer(1000)  # Buffering the point by 1km\n",
    "\n",
    "# loading the road network\n",
    "sg_road = gpd.read_file(\"road.json\")"
   ]
  },
  {
   "cell_type": "markdown",
   "metadata": {},
   "source": [
    "## Method 1:\n",
    "Number of intersection of line with the road.\n",
    "\n",
    "Problems: diagonal crossing counted as one road crossing"
   ]
  },
  {
   "cell_type": "code",
   "execution_count": 8,
   "metadata": {
    "lines_to_next_cell": 0
   },
   "outputs": [],
   "source": [
    "# getting all the linestrings\n",
    "lines = []\n",
    "for loc in latlong:\n",
    "    lines += [LineString([loc, x]) for x in latlong]\n",
    "lines_gpd = gpd.GeoSeries(lines, crs={\"init\": \"epsg:4326\"})\n",
    "\n",
    "# Converting to local coordinates so that buffering distance is more intuitive\n",
    "sg_lines_gpd = lines_gpd.copy()\n",
    "sg_lines_gpd = sg_lines_gpd.to_crs(epsg=3414)\n",
    "\n",
    "# localisation of the road network to speed up the intersection findings\n",
    "road_localised = sg_road.geometry[0].intersection(area_of_interest)\n",
    "\n",
    "num_roads = lines_gpd.intersection(road_localised)\n",
    "counts_num_roads = num_roads.apply(lambda x: 1 if x.type == \"LineString\" else len(x))\n",
    "road_crossed = counts_num_roads.to_numpy().reshape(num_blocks, num_blocks)"
   ]
  },
  {
   "cell_type": "markdown",
   "metadata": {},
   "source": [
    "## Method 2:\n",
    "Getting the connected components and filter distance for those under 60m. Diagonal component filtered out based on area of overlap after buffering.\n",
    "\n",
    "Problems:\n",
    "- Some roads have small pop up, leading to small overlap. (Accepting those under 30m without the overlap filtering)\n",
    "- Components might have roads in it, just that it is not spliting it into two component. (ignoring it for now)"
   ]
  },
  {
   "cell_type": "code",
   "execution_count": 9,
   "metadata": {
    "lines_to_next_cell": 2
   },
   "outputs": [],
   "source": [
    "area_cc = (\n",
    "    sg_lines_gpd.geometry[0]\n",
    "    .buffer(1000)\n",
    "    .difference(sg_road.geometry[0])\n",
    ")  # buffering to merge the polygons together"
   ]
  },
  {
   "cell_type": "markdown",
   "metadata": {},
   "source": [
    "Getting the connected components with points on it"
   ]
  },
  {
   "cell_type": "code",
   "execution_count": 10,
   "metadata": {},
   "outputs": [],
   "source": [
    "land_mass = gpd.GeoDataFrame(\n",
    "    pd.Series(range(len(area_cc)), name=\"cluster\"),\n",
    "    crs={\"init\": \"epsg:3414\", \"no_defs\": True},\n",
    "    geometry=list(area_cc),\n",
    ")\n",
    "geometry = [Point(xy) for xy in zip(df.Lon, df.Lat)]\n",
    "crs = {\"init\": \"epsg:4326\"}\n",
    "gdf = gpd.GeoDataFrame(df, crs=crs, geometry=geometry).to_crs(epsg=3414)\n",
    "gdf = gpd.sjoin(gdf, land_mass, how=\"left\", op=\"within\")"
   ]
  },
  {
   "cell_type": "code",
   "execution_count": 11,
   "metadata": {},
   "outputs": [],
   "source": [
    "gdf[\"cluster\"] += len(gdf.cluster.unique())\n",
    "region = []\n",
    "for idx, num in enumerate(gdf.cluster.unique()):\n",
    "    region.append(land_mass.iloc[num - len(gdf.cluster.unique())].geometry)\n",
    "    gdf.loc[gdf[\"cluster\"] == num, \"cluster\"] = idx"
   ]
  },
  {
   "cell_type": "markdown",
   "metadata": {},
   "source": [
    "Current method of determining if component is adjacent or not.\n",
    "- filter distance below 60 and at least $10000m^2$\n",
    "- for those below 30m apart consider them as side by side\n",
    "- those between 30-60 m apart will buffer one component and check the area of overlap (if they are diagonal the area of overlap will be small (less than $150m^2$)"
   ]
  },
  {
   "cell_type": "code",
   "execution_count": 12,
   "metadata": {
    "lines_to_next_cell": 1
   },
   "outputs": [],
   "source": [
    "adj_mat = np.zeros((len(gdf.cluster.unique()), len(gdf.cluster.unique())))\n",
    "for idx, ply in enumerate(region):\n",
    "    for idx_ in range(idx + 1, len(region)):\n",
    "        ply_ = region[idx_]\n",
    "        dist = ply.distance(ply_)\n",
    "        if dist < 30:\n",
    "            adj_mat[idx, idx_] = 1\n",
    "            adj_mat[idx_, idx] = 1\n",
    "        elif dist < 60 and ply.intersection(ply_.buffer(dist + 5)).area > 150:\n",
    "            adj_mat[idx, idx_] = 1\n",
    "            adj_mat[idx_, idx] = 1"
   ]
  },
  {
   "cell_type": "code",
   "execution_count": 13,
   "metadata": {},
   "outputs": [],
   "source": [
    "def num_road_crossed(adj_mat):\n",
    "    \"\"\"Special case of Dijkstra algorithm for shortest path \n",
    "    \"\"\"\n",
    "    num_vert = len(adj_mat)\n",
    "    num_road = np.ones((num_vert, num_vert)) * num_vert\n",
    "    np.fill_diagonal(num_road, 0)\n",
    "    num_road[adj_mat > 0] = 1\n",
    "    count = 1\n",
    "    while count < num_vert and np.any(num_road == num_vert):\n",
    "        old_road = num_road.copy()\n",
    "        count += 1\n",
    "        for i in range(num_vert):\n",
    "            for j in range(num_vert):\n",
    "                num_road[i, j] = min(old_road[i] + old_road[j])\n",
    "    if np.any(num_road == num_vert):\n",
    "        print(\"Graph is not connected! Please check!\")\n",
    "    return num_road"
   ]
  },
  {
   "cell_type": "code",
   "execution_count": 14,
   "metadata": {},
   "outputs": [],
   "source": [
    "road_crossed = np.zeros((num_blocks, num_blocks))\n",
    "cluster_road = num_road_crossed(adj_mat)\n",
    "house_to_cluster = list(gdf[\"cluster\"])\n",
    "for idx, cluster in enumerate(house_to_cluster):\n",
    "    for idx_ in range(idx + 1, num_blocks):\n",
    "        road_crossed[idx, idx_] = cluster_road[(cluster, house_to_cluster[idx_])]\n",
    "        road_crossed[idx_, idx] = cluster_road[(cluster, house_to_cluster[idx_])]"
   ]
  },
  {
   "cell_type": "code",
   "execution_count": 15,
   "metadata": {},
   "outputs": [
    {
     "data": {
      "text/html": [
       "<div style=\"width:100%;\"><div style=\"position:relative;width:100%;height:0;padding-bottom:60%;\"><iframe src=\"data:text/html;charset=utf-8;base64,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\" style=\"position:absolute;width:100%;height:100%;left:0;top:0;border:none !important;\" allowfullscreen webkitallowfullscreen mozallowfullscreen></iframe></div></div>"
      ],
      "text/plain": [
       "<folium.folium.Map at 0x7f8a417296d0>"
      ]
     },
     "metadata": {},
     "output_type": "display_data"
    }
   ],
   "source": [
    "# Viewing the regions\n",
    "mapa = folium.Map([1.3, 103.9], zoom_start=10, tiles=\"cartodbpositron\")\n",
    "mp_road = folium.FeatureGroup(name=\"mp road\")\n",
    "mp_road.add_child(\n",
    "    folium.GeoJson(\n",
    "        gpd.GeoSeries(region, crs={\"init\": \"epsg:3414\"}).to_crs(epsg=4326).to_json()\n",
    "    )\n",
    ")\n",
    "mapa.add_child(mp_road)\n",
    "display(mapa)"
   ]
  },
  {
   "cell_type": "markdown",
   "metadata": {},
   "source": [
    "dist_matrix[2]"
   ]
  },
  {
   "cell_type": "markdown",
   "metadata": {},
   "source": [
    "## Generating the time/distance matrix"
   ]
  },
  {
   "cell_type": "code",
   "execution_count": 16,
   "metadata": {
    "lines_to_next_cell": 2
   },
   "outputs": [],
   "source": [
    "# Time penalty for road crossing\n",
    "penalty_road = 200\n",
    "# penalty_lift =\n",
    "# penalty_release_pts ="
   ]
  },
  {
   "cell_type": "code",
   "execution_count": 17,
   "metadata": {},
   "outputs": [],
   "source": [
    "def add_release_penalty(time_matrix, penalty=600, method=\"fixed\"):\n",
    "    \"\"\" Adds time penalty for the release points\n",
    "    \"\"\"\n",
    "    # Currently only fixed penalty is implemented, but possible to extend it to cater\n",
    "    # for more cases such as lift penalty or based on number of release points.\n",
    "    if method == \"fixed\":\n",
    "        final_matrix = time_matrix.copy() + penalty\n",
    "    else:\n",
    "        print(\"No other method implemented.\")\n",
    "        final_matrix = time_matrix.copy()\n",
    "    return final_matrix"
   ]
  },
  {
   "cell_type": "code",
   "execution_count": 18,
   "metadata": {},
   "outputs": [],
   "source": [
    "elucid_matrix = euclidean_dist\n",
    "time_matrix_10min = (\n",
    "    add_release_penalty(euclidean_time_matrix, penalty=600)\n",
    "    + road_crossed * penalty_road\n",
    ")\n",
    "time_matrix_5min = (\n",
    "    add_release_penalty(euclidean_time_matrix, penalty=300)\n",
    "    + road_crossed * penalty_road\n",
    ")\n",
    "time_matrix_8min = (\n",
    "    add_release_penalty(euclidean_time_matrix, penalty=480)\n",
    "    + road_crossed * penalty_road\n",
    ")\n",
    "time_matrix_5min[37, :] = 0  # Setting going out time to zero\n",
    "time_matrix_10min[37, :] = 0  # Setting going out time to zero\n",
    "time_matrix_10min[37, :] = 0  # Setting going out time to zero"
   ]
  },
  {
   "cell_type": "markdown",
   "metadata": {},
   "source": [
    "time_matrix[:, 37]"
   ]
  },
  {
   "cell_type": "raw",
   "metadata": {},
   "source": [
    "time_matrix[:, 37] = 0 # Setting return to base time to zero."
   ]
  },
  {
   "cell_type": "code",
   "execution_count": 19,
   "metadata": {},
   "outputs": [],
   "source": [
    "\"\"\"Vehicles Routing Problem (VRP).\"\"\"\n",
    "\n",
    "from __future__ import print_function\n",
    "from ortools.constraint_solver import routing_enums_pb2\n",
    "from ortools.constraint_solver import pywrapcp\n",
    "\n",
    "\n",
    "def generate_readable_solution(\n",
    "    data,\n",
    "    manager,\n",
    "    routing,\n",
    "    solution,\n",
    "    df=df,\n",
    "    time_matrix=time_matrix,\n",
    "    dist_matrix=dist_matrix,\n",
    "    euclid_matrix=euclid_matrix,\n",
    "):\n",
    "    \"\"\"Get the route details (path, time, distance)\"\"\"\n",
    "    full_route = {\"route\": [], \"route_print\": [], \"distance\": [], \"time\": []}\n",
    "    for vehicle_id in range(data[\"num_vehicles\"]):\n",
    "        index = routing.Start(vehicle_id)\n",
    "        plan_output = \"Route for vehicle {}:\\n\".format(vehicle_id)\n",
    "        route = []\n",
    "        while not routing.IsEnd(index):\n",
    "            route.append(manager.IndexToNode(index))\n",
    "            previous_index = index\n",
    "            index = solution.Value(routing.NextVar(index))\n",
    "        route.append(manager.IndexToNode(index))\n",
    "        pair_pts = list(zip(route[:-1], route[1:]))\n",
    "        walk_dist = 0\n",
    "        walk_time = 0\n",
    "        euclid_dist = 0\n",
    "        for num, (i, j) in enumerate(pair_pts[1:]):  # Dropping the first point\n",
    "            if num == 0:\n",
    "                plan_output += \"Blk {}\".format(df.loc[i, \"Block\"])\n",
    "            plan_output += \" -> Blk {}\".format(df.loc[j, \"Block\"])\n",
    "            walk_dist += dist_matrix[i, j]\n",
    "            walk_time += time_matrix[i, j]\n",
    "            euclid_dist += euclid_matrix[i, j]\n",
    "        plan_output += \"\\n\"\n",
    "        plan_output += \"Walking distance of the route: {}m\\n\".format(walk_dist)\n",
    "        plan_output += \"Walking time of the route: {}mins\\n\".format(walk_time / 60)\n",
    "        plan_output += \"Euclidean distance of the route: {}m\\n\".format(euclid_dist)\n",
    "        plan_output += \"Numbers of block: {}\".format(len(route[1:]))\n",
    "        full_route[\"route\"].append(route)\n",
    "        full_route[\"route_print\"].append(plan_output)\n",
    "        full_route[\"distance\"].append(walk_dist)\n",
    "        full_route[\"time\"].append(walk_time)\n",
    "    return full_route\n",
    "\n",
    "\n",
    "def print_solution(full_route):\n",
    "    \"\"\" Print the solution\n",
    "    \"\"\"\n",
    "    for i in full_route[\"route_print\"]:\n",
    "        print(i)\n",
    "    print(\"Maximum of the euclidean distances: {}m\".format(max(full_route[\"distance\"])))\n",
    "    print(\"Maximum of the route duration: {}mins\".format(max(full_route[\"time\"]) / 60))"
   ]
  },
  {
   "cell_type": "markdown",
   "metadata": {},
   "source": [
    "# Plotting the routes"
   ]
  },
  {
   "cell_type": "code",
   "execution_count": 20,
   "metadata": {},
   "outputs": [],
   "source": [
    "current_time_matrix = time_matrix_5min\n",
    "current_distance_matrix = euclidean_dist"
   ]
  },
  {
   "cell_type": "code",
   "execution_count": 21,
   "metadata": {},
   "outputs": [
    {
     "name": "stdout",
     "output_type": "stream",
     "text": [
      "Route for vehicle 0:\n",
      "Blk 223 -> Blk 224 -> Blk 296 -> Blk 298 -> Blk 299 -> Blk 297 -> Blk 291 -> Blk 227 -> Blk 230 -> Blk 231 -> Blk 232 -> Blk 234 -> Blk 237 -> Blk 238\n",
      "Walking distance of the route: 1066.3199882730598m\n",
      "Walking time of the route: 86.84799986970069mins\n",
      "Euclidean distance of the route: 1066.3199882730598m\n",
      "Numbers of block: 14\n",
      "Route for vehicle 1:\n",
      "Blk 292 -> Blk 293 -> Blk 264 -> Blk 261 -> Blk 263 -> Blk 262 -> Blk 260 -> Blk 259 -> Blk 257 -> Blk 258 -> Blk 253 -> Blk 256 -> Blk 239 -> Blk 242 -> Blk 238\n",
      "Walking distance of the route: 1097.1870737911368m\n",
      "Walking time of the route: 85.52430081990153mins\n",
      "Euclidean distance of the route: 1097.1870737911368m\n",
      "Numbers of block: 15\n",
      "Route for vehicle 2:\n",
      "Blk 309 -> Blk 310 -> Blk 314 -> Blk 312 -> Blk 311 -> Blk 308 -> Blk 306 -> Blk 304 -> Blk 303 -> Blk 302 -> Blk 305 -> Blk 210 -> Blk 241 -> Blk 240 -> Blk 238\n",
      "Walking distance of the route: 919.4770028547141m\n",
      "Walking time of the route: 86.88307780949683mins\n",
      "Euclidean distance of the route: 919.4770028547141m\n",
      "Numbers of block: 15\n",
      "Route for vehicle 3:\n",
      "Blk 269A -> Blk 269B -> Blk 250 -> Blk 248 -> Blk 246 -> Blk 245 -> Blk 247 -> Blk 249 -> Blk 251 -> Blk 252 -> Blk 254 -> Blk 255 -> Blk 244 -> Blk 243 -> Blk 238\n",
      "Walking distance of the route: 1011.6256078369848m\n",
      "Walking time of the route: 84.5736178648554mins\n",
      "Euclidean distance of the route: 1011.6256078369848m\n",
      "Numbers of block: 15\n",
      "Route for vehicle 4:\n",
      "Blk 216 -> Blk 217 -> Blk 218 -> Blk 219 -> Blk 220 -> Blk 222 -> Blk 225 -> Blk 226 -> Blk 221 -> Blk 229 -> Blk 228 -> Blk 233 -> Blk 235 -> Blk 236 -> Blk 238\n",
      "Walking distance of the route: 1002.478527282643m\n",
      "Walking time of the route: 84.4719836364738mins\n",
      "Euclidean distance of the route: 1002.478527282643m\n",
      "Numbers of block: 15\n",
      "Route for vehicle 5:\n",
      "Blk 215 -> Blk 213 -> Blk 214 -> Blk 205 -> Blk 204 -> Blk 203 -> Blk 206 -> Blk 207 -> Blk 202 -> Blk 208 -> Blk 201 -> Blk 209 -> Blk 212 -> Blk 211 -> Blk 238\n",
      "Walking distance of the route: 926.4190721781606m\n",
      "Walking time of the route: 83.62687857975733mins\n",
      "Euclidean distance of the route: 926.4190721781606m\n",
      "Numbers of block: 15\n",
      "Maximum of the euclidean distances: 1097.1870737911368m\n",
      "Maximum of the route duration: 86.88307780949683mins\n"
     ]
    }
   ],
   "source": [
    "\"\"\"Solve the CVRP problem.\"\"\"\n",
    "# Instantiate the data problem.\n",
    "\"\"\"Stores the data for the problem.\"\"\"\n",
    "data = {}\n",
    "data[\"distance_matrix\"] = current_time_matrix\n",
    "data[\"num_vehicles\"] = 6\n",
    "data[\"depot\"] = 37\n",
    "\n",
    "# Create the routing index manager.\n",
    "\n",
    "\n",
    "def vrp_solver(data):\n",
    "    \"\"\" Solved the VRP with the given distance matrix, num_vehicles and depot node\n",
    "    INPUT\n",
    "    data : dictionary with keys \"distance_matrix\", \"num_vehicles\" and \"depot\"\n",
    "           \"depot\" is the index of the starting node in the distance_matrix \n",
    "    \"\"\"\n",
    "    # Create the routing index manager.\n",
    "    manager = pywrapcp.RoutingIndexManager(\n",
    "        len(data[\"distance_matrix\"]), data[\"num_vehicles\"], data[\"depot\"]\n",
    "    )\n",
    "\n",
    "    # Create Routing Model.\n",
    "    routing = pywrapcp.RoutingModel(manager)\n",
    "\n",
    "    # Create and register a transit callback.\n",
    "    def distance_callback(from_index, to_index):\n",
    "        \"\"\"Returns the distance between the two nodes.\"\"\"\n",
    "        # Convert from routing variable Index to distance matrix NodeIndex.\n",
    "        from_node = manager.IndexToNode(from_index)\n",
    "        to_node = manager.IndexToNode(to_index)\n",
    "        return data[\"distance_matrix\"][from_node][to_node]\n",
    "\n",
    "    transit_callback_index = routing.RegisterTransitCallback(distance_callback)\n",
    "\n",
    "    # Define cost of each arc.\n",
    "    routing.SetArcCostEvaluatorOfAllVehicles(transit_callback_index)\n",
    "\n",
    "    # Add Distance constraint.\n",
    "    dimension_name = \"Distance\"\n",
    "    routing.AddDimension(\n",
    "        transit_callback_index,\n",
    "        0,  # no slack\n",
    "        100000,  # vehicle maximum travel distance\n",
    "        True,  # start cumul to zero\n",
    "        dimension_name,\n",
    "    )\n",
    "    distance_dimension = routing.GetDimensionOrDie(dimension_name)\n",
    "    distance_dimension.SetGlobalSpanCostCoefficient(100)\n",
    "\n",
    "    # Setting first solution heuristic.\n",
    "    search_parameters = pywrapcp.DefaultRoutingSearchParameters()\n",
    "    search_parameters.first_solution_strategy = (\n",
    "        routing_enums_pb2.FirstSolutionStrategy.PATH_CHEAPEST_ARC\n",
    "    )\n",
    "    #     search_parameters = pywrapcp.DefaultRoutingSearchParameters()\n",
    "    #     search_parameters.local_search_metaheuristic = (\n",
    "    #         routing_enums_pb2.LocalSearchMetaheuristic.GUIDED_LOCAL_SEARCH\n",
    "    #     )\n",
    "    #     search_parameters.time_limit.seconds = 30euclid_matrix\n",
    "    #     search_parameters.log_search = True\n",
    "\n",
    "    # Solve the problem.\n",
    "    solution = routing.SolveWithParameters(search_parameters)\n",
    "    return solution, manager, routing\n",
    "\n",
    "\n",
    "solution, manager, routing = vrp_solver(data)\n",
    "\n",
    "# Print solution on console.\n",
    "if solution:\n",
    "    full_route = generate_readable_solution(\n",
    "        data,\n",
    "        manager,\n",
    "        routing,\n",
    "        solution,\n",
    "        df=df,\n",
    "        time_matrix=current_time_matrix,\n",
    "        dist_matrix=current_distance_matrix,\n",
    "        euclid_matrix=euclidean_dist,\n",
    "    )\n",
    "    print_solution(full_route)"
   ]
  },
  {
   "cell_type": "code",
   "execution_count": 22,
   "metadata": {},
   "outputs": [],
   "source": [
    "import folium"
   ]
  },
  {
   "cell_type": "code",
   "execution_count": 23,
   "metadata": {},
   "outputs": [],
   "source": [
    "color = [\n",
    "    \"red\",\n",
    "    \"blue\",\n",
    "    \"green\",\n",
    "    \"purple\",\n",
    "    \"orange\",\n",
    "    \"darkred\",\n",
    "    \"lightred\",\n",
    "    \"beige\",\n",
    "    \"darkblue\",\n",
    "    \"darkgreen\",\n",
    "    \"cadetblue\",\n",
    "    \"darkpurple\",\n",
    "    \"white\",\n",
    "    \"pink\",\n",
    "    \"lightblue\",\n",
    "]"
   ]
  },
  {
   "cell_type": "code",
   "execution_count": 24,
   "metadata": {},
   "outputs": [],
   "source": [
    "def set_up_map(data, df, routing, manager, color=color):\n",
    "    mapa = folium.Map([1.3, 103.9], zoom_start=13, tiles=\"cartodbpositron\")\n",
    "    for vehicle_id in range(data[\"num_vehicles\"]):\n",
    "        loc = []\n",
    "        index = routing.Start(vehicle_id)\n",
    "        route_distance = 0\n",
    "        if df.loc[manager.IndexToNode(index), \"location\"]:\n",
    "            tmp = df.loc[manager.IndexToNode(index), \"location\"].split(\",\")\n",
    "            loc.append((float(tmp[0]), float(tmp[1])))\n",
    "        while not routing.IsEnd(index):\n",
    "            previous_index = index\n",
    "            index = solution.Value(routing.NextVar(index))\n",
    "            if df.loc[manager.IndexToNode(index), \"location\"]:\n",
    "                tmp = df.loc[manager.IndexToNode(index), \"location\"].split(\",\")\n",
    "                loc.append((float(tmp[0]), float(tmp[1])))\n",
    "        folium.Marker(loc[1], popup=str(index)).add_to(mapa)\n",
    "        folium.PolyLine(loc[1:], color=color[vehicle_id], weight=2.5, opacity=1).add_to(\n",
    "            mapa\n",
    "        )\n",
    "    return mapa"
   ]
  },
  {
   "cell_type": "code",
   "execution_count": 25,
   "metadata": {},
   "outputs": [
    {
     "data": {
      "text/html": [
       "<div style=\"width:100%;\"><div style=\"position:relative;width:100%;height:0;padding-bottom:60%;\"><iframe src=\"data:text/html;charset=utf-8;base64,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\" style=\"position:absolute;width:100%;height:100%;left:0;top:0;border:none !important;\" allowfullscreen webkitallowfullscreen mozallowfullscreen></iframe></div></div>"
      ],
      "text/plain": [
       "<folium.folium.Map at 0x7f8a4166d810>"
      ]
     },
     "execution_count": 25,
     "metadata": {},
     "output_type": "execute_result"
    }
   ],
   "source": [
    "mapa = set_up_map(data, df, routing, manager)\n",
    "mapa"
   ]
  },
  {
   "cell_type": "markdown",
   "metadata": {},
   "source": [
    "Sovling it for 5 min interval"
   ]
  },
  {
   "cell_type": "code",
   "execution_count": 26,
   "metadata": {},
   "outputs": [],
   "source": [
    "current_time_matrix = time_matrix_10min\n",
    "current_distance_matrix = euclidean_dist"
   ]
  },
  {
   "cell_type": "code",
   "execution_count": 27,
   "metadata": {},
   "outputs": [
    {
     "name": "stdout",
     "output_type": "stream",
     "text": [
      "Route for vehicle 0:\n",
      "Blk 212 -> Blk 209 -> Blk 211 -> Blk 210 -> Blk 201 -> Blk 208 -> Blk 202 -> Blk 207 -> Blk 206 -> Blk 213 -> Blk 216 -> Blk 231 -> Blk 232 -> Blk 237 -> Blk 238\n",
      "Walking distance of the route: 1070.2128111169168m\n",
      "Walking time of the route: 155.22458679018794mins\n",
      "Euclidean distance of the route: 1070.2128111169168m\n",
      "Numbers of block: 15\n",
      "Route for vehicle 1:\n",
      "Blk 204 -> Blk 203 -> Blk 205 -> Blk 214 -> Blk 215 -> Blk 217 -> Blk 218 -> Blk 219 -> Blk 221 -> Blk 226 -> Blk 230 -> Blk 234 -> Blk 235 -> Blk 236 -> Blk 238\n",
      "Walking distance of the route: 961.5833156872114m\n",
      "Walking time of the route: 154.01759239652455mins\n",
      "Euclidean distance of the route: 961.5833156872114m\n",
      "Numbers of block: 15\n",
      "Route for vehicle 2:\n",
      "Blk 291 -> Blk 292 -> Blk 293 -> Blk 264 -> Blk 261 -> Blk 260 -> Blk 259 -> Blk 257 -> Blk 258 -> Blk 253 -> Blk 254 -> Blk 244 -> Blk 243 -> Blk 239 -> Blk 238\n",
      "Walking distance of the route: 1146.566493297934m\n",
      "Walking time of the route: 156.0729610366437mins\n",
      "Euclidean distance of the route: 1146.566493297934m\n",
      "Numbers of block: 15\n",
      "Route for vehicle 3:\n",
      "Blk 262 -> Blk 263 -> Blk 269A -> Blk 269B -> Blk 250 -> Blk 249 -> Blk 248 -> Blk 246 -> Blk 247 -> Blk 245 -> Blk 251 -> Blk 252 -> Blk 255 -> Blk 256 -> Blk 238\n",
      "Walking distance of the route: 1138.5169106906503m\n",
      "Walking time of the route: 155.98352122989613mins\n",
      "Euclidean distance of the route: 1138.5169106906503m\n",
      "Numbers of block: 15\n",
      "Route for vehicle 4:\n",
      "Blk 299 -> Blk 298 -> Blk 297 -> Blk 296 -> Blk 224 -> Blk 220 -> Blk 222 -> Blk 223 -> Blk 225 -> Blk 227 -> Blk 229 -> Blk 228 -> Blk 233 -> Blk 238\n",
      "Walking distance of the route: 1121.2833872781098m\n",
      "Walking time of the route: 149.12537096975677mins\n",
      "Euclidean distance of the route: 1121.2833872781098m\n",
      "Numbers of block: 14\n",
      "Route for vehicle 5:\n",
      "Blk 309 -> Blk 310 -> Blk 314 -> Blk 312 -> Blk 311 -> Blk 308 -> Blk 306 -> Blk 304 -> Blk 303 -> Blk 302 -> Blk 305 -> Blk 241 -> Blk 240 -> Blk 242 -> Blk 238\n",
      "Walking distance of the route: 934.7889921157415m\n",
      "Walking time of the route: 153.7198776901749mins\n",
      "Euclidean distance of the route: 934.7889921157415m\n",
      "Numbers of block: 15\n",
      "Maximum of the euclidean distances: 1146.566493297934m\n",
      "Maximum of the route duration: 156.0729610366437mins\n"
     ]
    }
   ],
   "source": [
    "\"\"\"Solve the CVRP problem.\"\"\"\n",
    "# Instantiate the data problem.\n",
    "\"\"\"Stores the data for the problem.\"\"\"\n",
    "data = {}\n",
    "data[\"distance_matrix\"] = current_time_matrix\n",
    "data[\"num_vehicles\"] = 6\n",
    "data[\"depot\"] = 37\n",
    "\n",
    "# Create the routing index manager.\n",
    "solution, manager, routing = vrp_solver(data)\n",
    "\n",
    "# Print solution on console.\n",
    "if solution:\n",
    "    full_route = generate_readable_solution(\n",
    "        data,\n",
    "        manager,\n",
    "        routing,\n",
    "        solution,\n",
    "        df=df,\n",
    "        time_matrix=current_time_matrix,\n",
    "        dist_matrix=current_distance_matrix,\n",
    "        euclid_matrix=euclidean_dist,\n",
    "    )\n",
    "    print_solution(full_route)"
   ]
  },
  {
   "cell_type": "code",
   "execution_count": 28,
   "metadata": {},
   "outputs": [
    {
     "data": {
      "text/html": [
       "<div style=\"width:100%;\"><div style=\"position:relative;width:100%;height:0;padding-bottom:60%;\"><iframe src=\"data:text/html;charset=utf-8;base64,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\" style=\"position:absolute;width:100%;height:100%;left:0;top:0;border:none !important;\" allowfullscreen webkitallowfullscreen mozallowfullscreen></iframe></div></div>"
      ],
      "text/plain": [
       "<folium.folium.Map at 0x7f8a3e1254d0>"
      ]
     },
     "metadata": {},
     "output_type": "display_data"
    }
   ],
   "source": [
    "import folium\n",
    "\n",
    "mapa = set_up_map(data, df, routing, manager)\n",
    "display(mapa)"
   ]
  },
  {
   "cell_type": "markdown",
   "metadata": {},
   "source": [
    "# Arbitrary start and end point"
   ]
  },
  {
   "cell_type": "code",
   "execution_count": 29,
   "metadata": {},
   "outputs": [],
   "source": [
    "current_time_matrix = np.zeros((num_blocks + 1, num_blocks + 1))\n",
    "current_time_matrix[:num_blocks, :num_blocks] = (\n",
    "    add_release_penalty(euclidean_time_matrix, penalty=300)\n",
    "    + road_crossed * penalty_road\n",
    ")\n",
    "current_distance_matrix = np.zeros((num_blocks + 1, num_blocks + 1))\n",
    "current_distance_matrix[:num_blocks, :num_blocks] = euclidean_dist\n",
    "current_euclid_matrix = np.zeros((num_blocks + 1, num_blocks + 1))\n",
    "current_euclid_matrix[:num_blocks, :num_blocks] = euclidean_dist\n",
    "df_append = df.copy()\n",
    "df_append = df_append.append(\n",
    "    {\"Block\": \"Dummy\", \"Road\": None, \"location\": None}, ignore_index=True\n",
    ")"
   ]
  },
  {
   "cell_type": "code",
   "execution_count": 30,
   "metadata": {},
   "outputs": [
    {
     "name": "stdout",
     "output_type": "stream",
     "text": [
      "Route for vehicle 0:\n",
      "Blk 256 -> Blk 242 -> Blk 309 -> Blk 310 -> Blk 314 -> Blk 312 -> Blk 311 -> Blk 308 -> Blk 306 -> Blk 305 -> Blk 302 -> Blk 303 -> Blk 304 -> Blk Dummy\n",
      "Walking distance of the route: 808.5841830817603m\n",
      "Walking time of the route: 75.65093536757513mins\n",
      "Euclidean distance of the route: 808.5841830817603m\n",
      "Numbers of block: 14\n",
      "Route for vehicle 1:\n",
      "Blk 263 -> Blk 262 -> Blk 260 -> Blk 258 -> Blk 253 -> Blk 252 -> Blk 251 -> Blk 249 -> Blk 247 -> Blk 245 -> Blk 246 -> Blk 248 -> Blk 250 -> Blk 269B -> Blk 269A -> Blk Dummy\n",
      "Walking distance of the route: 904.4245197942201m\n",
      "Walking time of the route: 80.04916133104689mins\n",
      "Euclidean distance of the route: 904.4245197942201m\n",
      "Numbers of block: 16\n",
      "Route for vehicle 2:\n",
      "Blk 216 -> Blk 217 -> Blk 221 -> Blk 230 -> Blk 227 -> Blk 228 -> Blk 233 -> Blk 235 -> Blk 236 -> Blk 239 -> Blk 237 -> Blk 238 -> Blk 240 -> Blk 241 -> Blk Dummy\n",
      "Walking distance of the route: 1010.3411255909427m\n",
      "Walking time of the route: 79.55934583989938mins\n",
      "Euclidean distance of the route: 1010.3411255909427m\n",
      "Numbers of block: 15\n",
      "Route for vehicle 3:\n",
      "Blk 299 -> Blk 298 -> Blk 297 -> Blk 291 -> Blk 292 -> Blk 293 -> Blk 264 -> Blk 261 -> Blk 259 -> Blk 257 -> Blk 254 -> Blk 255 -> Blk 244 -> Blk 243 -> Blk Dummy\n",
      "Walking distance of the route: 1085.7021234727852m\n",
      "Walking time of the route: 80.39669026080873mins\n",
      "Euclidean distance of the route: 1085.7021234727852m\n",
      "Numbers of block: 15\n",
      "Route for vehicle 4:\n",
      "Blk 229 -> Blk 234 -> Blk 232 -> Blk 231 -> Blk 219 -> Blk 218 -> Blk 220 -> Blk 222 -> Blk 223 -> Blk 226 -> Blk 225 -> Blk 224 -> Blk 296 -> Blk Dummy\n",
      "Walking distance of the route: 845.9755492699718m\n",
      "Walking time of the route: 76.06639499188857mins\n",
      "Euclidean distance of the route: 845.9755492699718m\n",
      "Numbers of block: 14\n",
      "Route for vehicle 5:\n",
      "Blk 215 -> Blk 213 -> Blk 214 -> Blk 205 -> Blk 204 -> Blk 203 -> Blk 206 -> Blk 207 -> Blk 202 -> Blk 208 -> Blk 201 -> Blk 210 -> Blk 211 -> Blk 209 -> Blk 212 -> Blk Dummy\n",
      "Walking distance of the route: 753.3047108896353m\n",
      "Walking time of the route: 78.37005234321818mins\n",
      "Euclidean distance of the route: 753.3047108896353m\n",
      "Numbers of block: 16\n",
      "Maximum of the euclidean distances: 1085.7021234727852m\n",
      "Maximum of the route duration: 80.39669026080873mins\n"
     ]
    }
   ],
   "source": [
    "\"\"\"Solve the CVRP problem.\"\"\"\n",
    "# Instantiate the data problem.\n",
    "\"\"\"Stores the data for the problem.\"\"\"\n",
    "data = {}\n",
    "data[\"distance_matrix\"] = current_time_matrix\n",
    "data[\"num_vehicles\"] = 6\n",
    "data[\"depot\"] = num_blocks\n",
    "\n",
    "# Create the routing index manager.\n",
    "solution, manager, routing = vrp_solver(data)\n",
    "\n",
    "# Print solution on console.\n",
    "if solution:\n",
    "    full_route = generate_readable_solution(\n",
    "        data,\n",
    "        manager,\n",
    "        routing,\n",
    "        solution,\n",
    "        df=df_append,\n",
    "        time_matrix=current_time_matrix,\n",
    "        dist_matrix=current_distance_matrix,\n",
    "        euclid_matrix=current_euclid_matrix,\n",
    "    )\n",
    "    print_solution(full_route)"
   ]
  },
  {
   "cell_type": "code",
   "execution_count": 31,
   "metadata": {},
   "outputs": [
    {
     "data": {
      "text/html": [
       "<div style=\"width:100%;\"><div style=\"position:relative;width:100%;height:0;padding-bottom:60%;\"><iframe src=\"data:text/html;charset=utf-8;base64,PCFET0NUWVBFIGh0bWw+CjxoZWFkPiAgICAKICAgIDxtZXRhIGh0dHAtZXF1aXY9ImNvbnRlbnQtdHlwZSIgY29udGVudD0idGV4dC9odG1sOyBjaGFyc2V0PVVURi04IiAvPgogICAgCiAgICAgICAgPHNjcmlwdD4KICAgICAgICAgICAgTF9OT19UT1VDSCA9IGZhbHNlOwogICAgICAgICAgICBMX0RJU0FCTEVfM0QgPSBmYWxzZTsKICAgICAgICA8L3NjcmlwdD4KICAgIAogICAgPHNjcmlwdCBzcmM9Imh0dHBzOi8vY2RuLmpzZGVsaXZyLm5ldC9ucG0vbGVhZmxldEAxLjUuMS9kaXN0L2xlYWZsZXQuanMiPjwvc2NyaXB0PgogICAgPHNjcmlwdCBzcmM9Imh0dHBzOi8vY29kZS5qcXVlcnkuY29tL2pxdWVyeS0xLjEyLjQubWluLmpzIj48L3NjcmlwdD4KICAgIDxzY3JpcHQgc3JjPSJodHRwczovL21heGNkbi5ib290c3RyYXBjZG4uY29tL2Jvb3RzdHJhcC8zLjIuMC9qcy9ib290c3RyYXAubWluLmpzIj48L3NjcmlwdD4KICAgIDxzY3JpcHQgc3JjPSJodHRwczovL2NkbmpzLmNsb3VkZmxhcmUuY29tL2FqYXgvbGlicy9MZWFmbGV0LmF3ZXNvbWUtbWFya2Vycy8yLjAuMi9sZWFmbGV0LmF3ZXNvbWUtbWFya2Vycy5qcyI+PC9zY3JpcHQ+CiAgICA8bGluayByZWw9InN0eWxlc2hlZXQiIGhyZWY9Imh0dHBzOi8vY2RuLmpzZGVsaXZyLm5ldC9ucG0vbGVhZmxldEAxLjUuMS9kaXN0L2xlYWZsZXQuY3NzIi8+CiAgICA8bGluayByZWw9InN0eWxlc2hlZXQiIGhyZWY9Imh0dHBzOi8vbWF4Y2RuLmJvb3RzdHJhcGNkbi5jb20vYm9vdHN0cmFwLzMuMi4wL2Nzcy9ib290c3RyYXAubWluLmNzcyIvPgogICAgPGxpbmsgcmVsPSJzdHlsZXNoZWV0IiBocmVmPSJodHRwczovL21heGNkbi5ib290c3RyYXBjZG4uY29tL2Jvb3RzdHJhcC8zLjIuMC9jc3MvYm9vdHN0cmFwLXRoZW1lLm1pbi5jc3MiLz4KICAgIDxsaW5rIHJlbD0ic3R5bGVzaGVldCIgaHJlZj0iaHR0cHM6Ly9tYXhjZG4uYm9vdHN0cmFwY2RuLmNvbS9mb250LWF3ZXNvbWUvNC42LjMvY3NzL2ZvbnQtYXdlc29tZS5taW4uY3NzIi8+CiAgICA8bGluayByZWw9InN0eWxlc2hlZXQiIGhyZWY9Imh0dHBzOi8vY2RuanMuY2xvdWRmbGFyZS5jb20vYWpheC9saWJzL0xlYWZsZXQuYXdlc29tZS1tYXJrZXJzLzIuMC4yL2xlYWZsZXQuYXdlc29tZS1tYXJrZXJzLmNzcyIvPgogICAgPGxpbmsgcmVsPSJzdHlsZXNoZWV0IiBocmVmPSJodHRwczovL3Jhd2Nkbi5naXRoYWNrLmNvbS9weXRob24tdmlzdWFsaXphdGlvbi9mb2xpdW0vbWFzdGVyL2ZvbGl1bS90ZW1wbGF0ZXMvbGVhZmxldC5hd2Vzb21lLnJvdGF0ZS5jc3MiLz4KICAgIDxzdHlsZT5odG1sLCBib2R5IHt3aWR0aDogMTAwJTtoZWlnaHQ6IDEwMCU7bWFyZ2luOiAwO3BhZGRpbmc6IDA7fTwvc3R5bGU+CiAgICA8c3R5bGU+I21hcCB7cG9zaXRpb246YWJzb2x1dGU7dG9wOjA7Ym90dG9tOjA7cmlnaHQ6MDtsZWZ0OjA7fTwvc3R5bGU+CiAgICAKICAgICAgICAgICAgPG1ldGEgbmFtZT0idmlld3BvcnQiIGNvbnRlbnQ9IndpZHRoPWRldmljZS13aWR0aCwKICAgICAgICAgICAgICAgIGluaXRpYWwtc2NhbGU9MS4wLCBtYXhpbXVtLXNjYWxlPTEuMCwgdXNlci1zY2FsYWJsZT1ubyIgLz4KICAgICAgICAgICAgPHN0eWxlPgogICAgICAgICAgICAgICAgI21hcF9hNWZhODA4OTQ1MDY0MzFiOTRhZmM0NDQwNDNiMjA0NCB7CiAgICAgICAgICAgICAgICAgICAgcG9zaXRpb246IHJlbGF0aXZlOwogICAgICAgICAgICAgICAgICAgIHdpZHRoOiAxMDAuMCU7CiAgICAgICAgICAgICAgICAgICAgaGVpZ2h0OiAxMDAuMCU7CiAgICAgICAgICAgICAgICAgICAgbGVmdDogMC4wJTsKICAgICAgICAgICAgICAgICAgICB0b3A6IDAuMCU7CiAgICAgICAgICAgICAgICB9CiAgICAgICAgICAgIDwvc3R5bGU+CiAgICAgICAgCjwvaGVhZD4KPGJvZHk+ICAgIAogICAgCiAgICAgICAgICAgIDxkaXYgY2xhc3M9ImZvbGl1bS1tYXAiIGlkPSJtYXBfYTVmYTgwODk0NTA2NDMxYjk0YWZjNDQ0MDQzYjIwNDQiID48L2Rpdj4KICAgICAgICAKPC9ib2R5Pgo8c2NyaXB0PiAgICAKICAgIAogICAgICAgICAgICB2YXIgbWFwX2E1ZmE4MDg5NDUwNjQzMWI5NGFmYzQ0NDA0M2IyMDQ0ID0gTC5tYXAoCiAgICAgICAgICAgICAgICAibWFwX2E1ZmE4MDg5NDUwNjQzMWI5NGFmYzQ0NDA0M2IyMDQ0IiwKICAgICAgICAgICAgICAgIHsKICAgICAgICAgICAgICAgICAgICBjZW50ZXI6IFsxLjMsIDEwMy45XSwKICAgICAgICAgICAgICAgICAgICBjcnM6IEwuQ1JTLkVQU0czODU3LAogICAgICAgICAgICAgICAgICAgIHpvb206IDEzLAogICAgICAgICAgICAgICAgICAgIHpvb21Db250cm9sOiB0cnVlLAogICAgICAgICAgICAgICAgICAgIHByZWZlckNhbnZhczogZmFsc2UsCiAgICAgICAgICAgICAgICB9CiAgICAgICAgICAgICk7CgogICAgICAgICAgICAKCiAgICAgICAgCiAgICAKICAgICAgICAgICAgdmFyIHRpbGVfbGF5ZXJfNzZhMTc4ZTNkNTgzNGRiMmJkMjI3Nzk4MDAxNTQzNGEgPSBMLnRpbGVMYXllcigKICAgICAgICAgICAgICAgICJodHRwczovL2NhcnRvZGItYmFzZW1hcHMte3N9Lmdsb2JhbC5zc2wuZmFzdGx5Lm5ldC9saWdodF9hbGwve3p9L3t4fS97eX0ucG5nIiwKICAgICAgICAgICAgICAgIHsiYXR0cmlidXRpb24iOiAiXHUwMDI2Y29weTsgXHUwMDNjYSBocmVmPVwiaHR0cDovL3d3dy5vcGVuc3RyZWV0bWFwLm9yZy9jb3B5cmlnaHRcIlx1MDAzZU9wZW5TdHJlZXRNYXBcdTAwM2MvYVx1MDAzZSBjb250cmlidXRvcnMgXHUwMDI2Y29weTsgXHUwMDNjYSBocmVmPVwiaHR0cDovL2NhcnRvZGIuY29tL2F0dHJpYnV0aW9uc1wiXHUwMDNlQ2FydG9EQlx1MDAzYy9hXHUwMDNlLCBDYXJ0b0RCIFx1MDAzY2EgaHJlZiA9XCJodHRwOi8vY2FydG9kYi5jb20vYXR0cmlidXRpb25zXCJcdTAwM2VhdHRyaWJ1dGlvbnNcdTAwM2MvYVx1MDAzZSIsICJkZXRlY3RSZXRpbmEiOiBmYWxzZSwgIm1heE5hdGl2ZVpvb20iOiAxOCwgIm1heFpvb20iOiAxOCwgIm1pblpvb20iOiAwLCAibm9XcmFwIjogZmFsc2UsICJvcGFjaXR5IjogMSwgInN1YmRvbWFpbnMiOiAiYWJjIiwgInRtcyI6IGZhbHNlfQogICAgICAgICAgICApLmFkZFRvKG1hcF9hNWZhODA4OTQ1MDY0MzFiOTRhZmM0NDQwNDNiMjA0NCk7CiAgICAgICAgCiAgICAKICAgICAgICAgICAgdmFyIG1hcmtlcl83MWNkMzVjMzc4ZWU0OWQ5YmViM2ExMmU4ZjM0YTQ2NiA9IEwubWFya2VyKAogICAgICAgICAgICAgICAgWzEuNDMyOTMzOCwgMTAzLjg0MDIzOV0sCiAgICAgICAgICAgICAgICB7fQogICAgICAgICAgICApLmFkZFRvKG1hcF9hNWZhODA4OTQ1MDY0MzFiOTRhZmM0NDQwNDNiMjA0NCk7CiAgICAgICAgCiAgICAKICAgICAgICB2YXIgcG9wdXBfZmU0ODA2N2M5Y2Y5NGNjM2E0NWFlMjhkNjhhYmU3NGUgPSBMLnBvcHVwKHsibWF4V2lkdGgiOiAiMTAwJSJ9KTsKCiAgICAgICAgCiAgICAgICAgICAgIHZhciBodG1sX2QwN2NhM2ViOWVkYjQ3OTQ4OGFmMWY1NDM5ZTk4OGNiID0gJChgPGRpdiBpZD0iaHRtbF9kMDdjYTNlYjllZGI0Nzk0ODhhZjFmNTQzOWU5ODhjYiIgc3R5bGU9IndpZHRoOiAxMDAuMCU7IGhlaWdodDogMTAwLjAlOyI+OTA8L2Rpdj5gKVswXTsKICAgICAgICAgICAgcG9wdXBfZmU0ODA2N2M5Y2Y5NGNjM2E0NWFlMjhkNjhhYmU3NGUuc2V0Q29udGVudChodG1sX2QwN2NhM2ViOWVkYjQ3OTQ4OGFmMWY1NDM5ZTk4OGNiKTsKICAgICAgICAKCiAgICAgICAgbWFya2VyXzcxY2QzNWMzNzhlZTQ5ZDliZWIzYTEyZThmMzRhNDY2LmJpbmRQb3B1cChwb3B1cF9mZTQ4MDY3YzljZjk0Y2MzYTQ1YWUyOGQ2OGFiZTc0ZSkKICAgICAgICA7CgogICAgICAgIAogICAgCiAgICAKICAgICAgICAgICAgdmFyIHBvbHlfbGluZV9jYWJmZDIxMTY2Mjg0MmNhOWMzOTE5NDdlYTJlOGFlMSA9IEwucG9seWxpbmUoCiAgICAgICAgICAgICAgICBbWzEuNDMyOTMzOCwgMTAzLjg0MDIzOV0sIFsxLjQzMjM0MDcsIDEwMy44NDEyMzU0XSwgWzEuNDMyMDM4NiwgMTAzLjg0MTM1NV0sIFsxLjQzMTcyNCwgMTAzLjg0MTcxOTRdLCBbMS40MzE1MzMsIDEwMy44NDEzMjZdLCBbMS40MzE0MDYxLCAxMDMuODQxMDc2OV0sIFsxLjQzMTMzNjEsIDEwMy44NDA1MzM0XSwgWzEuNDMxMjQ2NywgMTAzLjg0MDE0ODVdLCBbMS40MzExNzc4LCAxMDMuODM5NDIzOF0sIFsxLjQzMDIyMjksIDEwMy44Mzk2MDVdLCBbMS40MzAzNjY4LCAxMDMuODQwMDU3OV0sIFsxLjQzMDUzMDEsIDEwMy44NDAzNTIzXV0sCiAgICAgICAgICAgICAgICB7ImJ1YmJsaW5nTW91c2VFdmVudHMiOiB0cnVlLCAiY29sb3IiOiAicmVkIiwgImRhc2hBcnJheSI6IG51bGwsICJkYXNoT2Zmc2V0IjogbnVsbCwgImZpbGwiOiBmYWxzZSwgImZpbGxDb2xvciI6ICJyZWQiLCAiZmlsbE9wYWNpdHkiOiAwLjIsICJmaWxsUnVsZSI6ICJldmVub2RkIiwgImxpbmVDYXAiOiAicm91bmQiLCAibGluZUpvaW4iOiAicm91bmQiLCAibm9DbGlwIjogZmFsc2UsICJvcGFjaXR5IjogMSwgInNtb290aEZhY3RvciI6IDEuMCwgInN0cm9rZSI6IHRydWUsICJ3ZWlnaHQiOiAyLjV9CiAgICAgICAgICAgICkuYWRkVG8obWFwX2E1ZmE4MDg5NDUwNjQzMWI5NGFmYzQ0NDA0M2IyMDQ0KTsKICAgICAgICAKICAgIAogICAgICAgICAgICB2YXIgbWFya2VyX2NkYTVkZTA4OWI3ZTQ4MTU4NTZkNjg5NTdlZDJhYWFkID0gTC5tYXJrZXIoCiAgICAgICAgICAgICAgICBbMS40MzU4MDIzLCAxMDMuODM5MTUyMV0sCiAgICAgICAgICAgICAgICB7fQogICAgICAgICAgICApLmFkZFRvKG1hcF9hNWZhODA4OTQ1MDY0MzFiOTRhZmM0NDQwNDNiMjA0NCk7CiAgICAgICAgCiAgICAKICAgICAgICB2YXIgcG9wdXBfZTUwNmZjOWNjODk4NDE0NDk5Yzg5ODA5MzcwYTllODEgPSBMLnBvcHVwKHsibWF4V2lkdGgiOiAiMTAwJSJ9KTsKCiAgICAgICAgCiAgICAgICAgICAgIHZhciBodG1sXzZkMjE3YmQyNzMzZTRiYjE5YjBhMzYzM2U5ZWRjMjhmID0gJChgPGRpdiBpZD0iaHRtbF82ZDIxN2JkMjczM2U0YmIxOWIwYTM2MzNlOWVkYzI4ZiIgc3R5bGU9IndpZHRoOiAxMDAuMCU7IGhlaWdodDogMTAwLjAlOyI+OTE8L2Rpdj5gKVswXTsKICAgICAgICAgICAgcG9wdXBfZTUwNmZjOWNjODk4NDE0NDk5Yzg5ODA5MzcwYTllODEuc2V0Q29udGVudChodG1sXzZkMjE3YmQyNzMzZTRiYjE5YjBhMzYzM2U5ZWRjMjhmKTsKICAgICAgICAKCiAgICAgICAgbWFya2VyX2NkYTVkZTA4OWI3ZTQ4MTU4NTZkNjg5NTdlZDJhYWFkLmJpbmRQb3B1cChwb3B1cF9lNTA2ZmM5Y2M4OTg0MTQ0OTljODk4MDkzNzBhOWU4MSkKICAgICAgICA7CgogICAgICAgIAogICAgCiAgICAKICAgICAgICAgICAgdmFyIHBvbHlfbGluZV8zZDg5OGMwZjZiNjk0NDFjYTQ2YWYwMGM3ZmMyNjZiYiA9IEwucG9seWxpbmUoCiAgICAgICAgICAgICAgICBbWzEuNDM1ODAyMywgMTAzLjgzOTE1MjFdLCBbMS40MzU1MTg1LCAxMDMuODM5MjEzMl0sIFsxLjQzNTExNzUsIDEwMy44Mzk3OTY0XSwgWzEuNDM0OTY4MywgMTAzLjg0MDUzMzRdLCBbMS40MzQ3MDYsIDEwMy44NDEwNDZdLCBbMS40MzQ4MDMsIDEwMy44NDEzNzNdLCBbMS40MzUxOTkxLCAxMDMuODQxNzc4OV0sIFsxLjQzNDk5NTcsIDEwMy44NDIwMjhdLCBbMS40MzQ0MTM1LCAxMDMuODQyMTU0N10sIFsxLjQzNTA0OCwgMTAzLjg0MjQzOTNdLCBbMS40MzU2OTYsIDEwMy44NDIzMDk0XSwgWzEuNDM1NTEyMiwgMTAzLjg0MTU3NTFdLCBbMS40MzY0ODA0LCAxMDMuODQxMjI5M10sIFsxLjQzNjgyODUsIDEwMy44NDA5NzMzXV0sCiAgICAgICAgICAgICAgICB7ImJ1YmJsaW5nTW91c2VFdmVudHMiOiB0cnVlLCAiY29sb3IiOiAiYmx1ZSIsICJkYXNoQXJyYXkiOiBudWxsLCAiZGFzaE9mZnNldCI6IG51bGwsICJmaWxsIjogZmFsc2UsICJmaWxsQ29sb3IiOiAiYmx1ZSIsICJmaWxsT3BhY2l0eSI6IDAuMiwgImZpbGxSdWxlIjogImV2ZW5vZGQiLCAibGluZUNhcCI6ICJyb3VuZCIsICJsaW5lSm9pbiI6ICJyb3VuZCIsICJub0NsaXAiOiBmYWxzZSwgIm9wYWNpdHkiOiAxLCAic21vb3RoRmFjdG9yIjogMS4wLCAic3Ryb2tlIjogdHJ1ZSwgIndlaWdodCI6IDIuNX0KICAgICAgICAgICAgKS5hZGRUbyhtYXBfYTVmYTgwODk0NTA2NDMxYjk0YWZjNDQ0MDQzYjIwNDQpOwogICAgICAgIAogICAgCiAgICAgICAgICAgIHZhciBtYXJrZXJfYTUyZWFiMTMyZDc2NDQ4MGFiNDI1YzdhZWYwMjA0MWUgPSBMLm1hcmtlcigKICAgICAgICAgICAgICAgIFsxLjQzMjY5MywgMTAzLjgzNjE1N10sCiAgICAgICAgICAgICAgICB7fQogICAgICAgICAgICApLmFkZFRvKG1hcF9hNWZhODA4OTQ1MDY0MzFiOTRhZmM0NDQwNDNiMjA0NCk7CiAgICAgICAgCiAgICAKICAgICAgICB2YXIgcG9wdXBfMjI2YjE4ZWU4OGJiNDBkMjhlODkxY2Q2OWZjY2EyMWIgPSBMLnBvcHVwKHsibWF4V2lkdGgiOiAiMTAwJSJ9KTsKCiAgICAgICAgCiAgICAgICAgICAgIHZhciBodG1sXzhlZTgyNmVlZjk3MTRiZDI5MzJiN2RlOWQxMDI4N2YzID0gJChgPGRpdiBpZD0iaHRtbF84ZWU4MjZlZWY5NzE0YmQyOTMyYjdkZTlkMTAyODdmMyIgc3R5bGU9IndpZHRoOiAxMDAuMCU7IGhlaWdodDogMTAwLjAlOyI+OTI8L2Rpdj5gKVswXTsKICAgICAgICAgICAgcG9wdXBfMjI2YjE4ZWU4OGJiNDBkMjhlODkxY2Q2OWZjY2EyMWIuc2V0Q29udGVudChodG1sXzhlZTgyNmVlZjk3MTRiZDI5MzJiN2RlOWQxMDI4N2YzKTsKICAgICAgICAKCiAgICAgICAgbWFya2VyX2E1MmVhYjEzMmQ3NjQ0ODBhYjQyNWM3YWVmMDIwNDFlLmJpbmRQb3B1cChwb3B1cF8yMjZiMThlZTg4YmI0MGQyOGU4OTFjZDY5ZmNjYTIxYikKICAgICAgICA7CgogICAgICAgIAogICAgCiAgICAKICAgICAgICAgICAgdmFyIHBvbHlfbGluZV80NmMyMTMyN2M2NTI0Y2FmYmM3NjgxZWVjZTlkY2I0OCA9IEwucG9seWxpbmUoCiAgICAgICAgICAgICAgICBbWzEuNDMyNjkzLCAxMDMuODM2MTU3XSwgWzEuNDM0MDQwNSwgMTAzLjgzNjM3OTldLCBbMS40MzQ2NTU3LCAxMDMuODM2NTk2Nl0sIFsxLjQzNTE1MiwgMTAzLjgzNjUwNV0sIFsxLjQzNTM5NTYsIDEwMy44Mzc1MzY0XSwgWzEuNDM1MDAxMywgMTAzLjgzODE1NTddLCBbMS40MzQ1NDAzLCAxMDMuODM4NTQwN10sIFsxLjQzNDExNjMsIDEwMy44Mzg4ODAzXSwgWzEuNDMzNzg1NCwgMTAzLjgzOTYwMDddLCBbMS40MzMzODI1LCAxMDMuODM4ODgwM10sIFsxLjQzMzI3ODUsIDEwMy44MzkyNDUzXSwgWzEuNDMyNjU0NywgMTAzLjgzOTQ5MTRdLCBbMS40MzIxMTQ2LCAxMDMuODM5MjJdXSwKICAgICAgICAgICAgICAgIHsiYnViYmxpbmdNb3VzZUV2ZW50cyI6IHRydWUsICJjb2xvciI6ICJncmVlbiIsICJkYXNoQXJyYXkiOiBudWxsLCAiZGFzaE9mZnNldCI6IG51bGwsICJmaWxsIjogZmFsc2UsICJmaWxsQ29sb3IiOiAiZ3JlZW4iLCAiZmlsbE9wYWNpdHkiOiAwLjIsICJmaWxsUnVsZSI6ICJldmVub2RkIiwgImxpbmVDYXAiOiAicm91bmQiLCAibGluZUpvaW4iOiAicm91bmQiLCAibm9DbGlwIjogZmFsc2UsICJvcGFjaXR5IjogMSwgInNtb290aEZhY3RvciI6IDEuMCwgInN0cm9rZSI6IHRydWUsICJ3ZWlnaHQiOiAyLjV9CiAgICAgICAgICAgICkuYWRkVG8obWFwX2E1ZmE4MDg5NDUwNjQzMWI5NGFmYzQ0NDA0M2IyMDQ0KTsKICAgICAgICAKICAgIAogICAgICAgICAgICB2YXIgbWFya2VyXzhlMzc5OTJkMzkyZDQ1MjhhNTZkMzE0NTk5OTdmZWRlID0gTC5tYXJrZXIoCiAgICAgICAgICAgICAgICBbMS40MzYxMzE5LCAxMDMuODM0NjYzMV0sCiAgICAgICAgICAgICAgICB7fQogICAgICAgICAgICApLmFkZFRvKG1hcF9hNWZhODA4OTQ1MDY0MzFiOTRhZmM0NDQwNDNiMjA0NCk7CiAgICAgICAgCiAgICAKICAgICAgICB2YXIgcG9wdXBfNDdkYzAyMmQyZDRhNGQyYjlkZTMyNDNhYzZlMzM2YTkgPSBMLnBvcHVwKHsibWF4V2lkdGgiOiAiMTAwJSJ9KTsKCiAgICAgICAgCiAgICAgICAgICAgIHZhciBodG1sX2EwNDE4NjBiY2E0MjRmZGE4MDc1YWVjMDJlNWU2YWUxID0gJChgPGRpdiBpZD0iaHRtbF9hMDQxODYwYmNhNDI0ZmRhODA3NWFlYzAyZTVlNmFlMSIgc3R5bGU9IndpZHRoOiAxMDAuMCU7IGhlaWdodDogMTAwLjAlOyI+OTM8L2Rpdj5gKVswXTsKICAgICAgICAgICAgcG9wdXBfNDdkYzAyMmQyZDRhNGQyYjlkZTMyNDNhYzZlMzM2YTkuc2V0Q29udGVudChodG1sX2EwNDE4NjBiY2E0MjRmZGE4MDc1YWVjMDJlNWU2YWUxKTsKICAgICAgICAKCiAgICAgICAgbWFya2VyXzhlMzc5OTJkMzkyZDQ1MjhhNTZkMzE0NTk5OTdmZWRlLmJpbmRQb3B1cChwb3B1cF80N2RjMDIyZDJkNGE0ZDJiOWRlMzI0M2FjNmUzMzZhOSkKICAgICAgICA7CgogICAgICAgIAogICAgCiAgICAKICAgICAgICAgICAgdmFyIHBvbHlfbGluZV9mMDIwNGU5MTNlNmU0NTI1YmFlN2ZmNmNkY2JhOTkyZSA9IEwucG9seWxpbmUoCiAgICAgICAgICAgICAgICBbWzEuNDM2MTMxOSwgMTAzLjgzNDY2MzFdLCBbMS40MzU5Mjk2LCAxMDMuODM1MjUxNV0sIFsxLjQzNTk2NTMsIDEwMy44MzY1MjUzXSwgWzEuNDM3MDI0OSwgMTAzLjgzNzI3MjZdLCBbMS40MzYzOTY3LCAxMDMuODM3OTc0NV0sIFsxLjQzNTU4NzgsIDEwMy44MzgyNDYzXSwgWzEuNDM1MzgxNywgMTAzLjgzODU0NTddLCBbMS40MzUxODY4LCAxMDMuODM5MTU2NV0sIFsxLjQzNDU3MTEsIDEwMy44Mzk0OTE3XSwgWzEuNDM0NjAxNCwgMTAzLjg0MDUzMzRdLCBbMS40MzQzMDczLCAxMDMuODQwNjI0XSwgWzEuNDMzOTU1LCAxMDMuODQxMjM1NF0sIFsxLjQzMzUxODEsIDEwMy44NDA2OTE5XV0sCiAgICAgICAgICAgICAgICB7ImJ1YmJsaW5nTW91c2VFdmVudHMiOiB0cnVlLCAiY29sb3IiOiAicHVycGxlIiwgImRhc2hBcnJheSI6IG51bGwsICJkYXNoT2Zmc2V0IjogbnVsbCwgImZpbGwiOiBmYWxzZSwgImZpbGxDb2xvciI6ICJwdXJwbGUiLCAiZmlsbE9wYWNpdHkiOiAwLjIsICJmaWxsUnVsZSI6ICJldmVub2RkIiwgImxpbmVDYXAiOiAicm91bmQiLCAibGluZUpvaW4iOiAicm91bmQiLCAibm9DbGlwIjogZmFsc2UsICJvcGFjaXR5IjogMSwgInNtb290aEZhY3RvciI6IDEuMCwgInN0cm9rZSI6IHRydWUsICJ3ZWlnaHQiOiAyLjV9CiAgICAgICAgICAgICkuYWRkVG8obWFwX2E1ZmE4MDg5NDUwNjQzMWI5NGFmYzQ0NDA0M2IyMDQ0KTsKICAgICAgICAKICAgIAogICAgICAgICAgICB2YXIgbWFya2VyXzI3MWYxMjE1MjY0NTRhYjJiYWY2NDgyNzA0OTAwNjEyID0gTC5tYXJrZXIoCiAgICAgICAgICAgICAgICBbMS40MzQ0MDkxLCAxMDMuODM3NjQ5NF0sCiAgICAgICAgICAgICAgICB7fQogICAgICAgICAgICApLmFkZFRvKG1hcF9hNWZhODA4OTQ1MDY0MzFiOTRhZmM0NDQwNDNiMjA0NCk7CiAgICAgICAgCiAgICAKICAgICAgICB2YXIgcG9wdXBfZWM1NjhlYWU4OGRjNDBlYjg5Yzc0ZWI3ZjE1MGRmOGEgPSBMLnBvcHVwKHsibWF4V2lkdGgiOiAiMTAwJSJ9KTsKCiAgICAgICAgCiAgICAgICAgICAgIHZhciBodG1sX2Q0OTJmODY0YmM1YjRhYTRiMGFiZGJkYTc2OWVkZjQzID0gJChgPGRpdiBpZD0iaHRtbF9kNDkyZjg2NGJjNWI0YWE0YjBhYmRiZGE3NjllZGY0MyIgc3R5bGU9IndpZHRoOiAxMDAuMCU7IGhlaWdodDogMTAwLjAlOyI+OTQ8L2Rpdj5gKVswXTsKICAgICAgICAgICAgcG9wdXBfZWM1NjhlYWU4OGRjNDBlYjg5Yzc0ZWI3ZjE1MGRmOGEuc2V0Q29udGVudChodG1sX2Q0OTJmODY0YmM1YjRhYTRiMGFiZGJkYTc2OWVkZjQzKTsKICAgICAgICAKCiAgICAgICAgbWFya2VyXzI3MWYxMjE1MjY0NTRhYjJiYWY2NDgyNzA0OTAwNjEyLmJpbmRQb3B1cChwb3B1cF9lYzU2OGVhZTg4ZGM0MGViODljNzRlYjdmMTUwZGY4YSkKICAgICAgICA7CgogICAgICAgIAogICAgCiAgICAKICAgICAgICAgICAgdmFyIHBvbHlfbGluZV8zNjQyYmQ1NzEyN2U0ZjUxYTE4N2U3ZDc5NjEwYzZkZiA9IEwucG9seWxpbmUoCiAgICAgICAgICAgICAgICBbWzEuNDM0NDA5MSwgMTAzLjgzNzY0OTRdLCBbMS40MzQyNTQsIDEwMy44MzcxMjg3XSwgWzEuNDM0MTcwNiwgMTAzLjgzNzAxNTVdLCBbMS40MzMzMzgsIDEwMy44MzU5N10sIFsxLjQzMzA0MywgMTAzLjgzNjA0NF0sIFsxLjQzMzM0OTMsIDEwMy44MzUyMzM0XSwgWzEuNDM0MTIzNSwgMTAzLjgzNTYzNTJdLCBbMS40MzQ0NiwgMTAzLjgzNTczXSwgWzEuNDM0NDc4NSwgMTAzLjgzNjExMzJdLCBbMS40MzQ4NywgMTAzLjgzNTc4XSwgWzEuNDM0NjczOCwgMTAzLjgzNTEzNjldLCBbMS40MzUzNzQxLCAxMDMuODM1NDI3NV1dLAogICAgICAgICAgICAgICAgeyJidWJibGluZ01vdXNlRXZlbnRzIjogdHJ1ZSwgImNvbG9yIjogIm9yYW5nZSIsICJkYXNoQXJyYXkiOiBudWxsLCAiZGFzaE9mZnNldCI6IG51bGwsICJmaWxsIjogZmFsc2UsICJmaWxsQ29sb3IiOiAib3JhbmdlIiwgImZpbGxPcGFjaXR5IjogMC4yLCAiZmlsbFJ1bGUiOiAiZXZlbm9kZCIsICJsaW5lQ2FwIjogInJvdW5kIiwgImxpbmVKb2luIjogInJvdW5kIiwgIm5vQ2xpcCI6IGZhbHNlLCAib3BhY2l0eSI6IDEsICJzbW9vdGhGYWN0b3IiOiAxLjAsICJzdHJva2UiOiB0cnVlLCAid2VpZ2h0IjogMi41fQogICAgICAgICAgICApLmFkZFRvKG1hcF9hNWZhODA4OTQ1MDY0MzFiOTRhZmM0NDQwNDNiMjA0NCk7CiAgICAgICAgCiAgICAKICAgICAgICAgICAgdmFyIG1hcmtlcl80OWNlMDY2ZGYzYWI0ZmUyOTBhZmZiZWIyNWY4ZWIxMiA9IEwubWFya2VyKAogICAgICAgICAgICAgICAgWzEuNDMxODUxLCAxMDMuODM2MzMxXSwKICAgICAgICAgICAgICAgIHt9CiAgICAgICAgICAgICkuYWRkVG8obWFwX2E1ZmE4MDg5NDUwNjQzMWI5NGFmYzQ0NDA0M2IyMDQ0KTsKICAgICAgICAKICAgIAogICAgICAgIHZhciBwb3B1cF83NzhkNmEyNTgzZmM0ZGU4YTEzODE3YmFjMjkyMTdjNSA9IEwucG9wdXAoeyJtYXhXaWR0aCI6ICIxMDAlIn0pOwoKICAgICAgICAKICAgICAgICAgICAgdmFyIGh0bWxfYzlkYzlhNmVmOWViNDQyYmJhNDIxZTQwYWNhOGZmMDggPSAkKGA8ZGl2IGlkPSJodG1sX2M5ZGM5YTZlZjllYjQ0MmJiYTQyMWU0MGFjYThmZjA4IiBzdHlsZT0id2lkdGg6IDEwMC4wJTsgaGVpZ2h0OiAxMDAuMCU7Ij45NTwvZGl2PmApWzBdOwogICAgICAgICAgICBwb3B1cF83NzhkNmEyNTgzZmM0ZGU4YTEzODE3YmFjMjkyMTdjNS5zZXRDb250ZW50KGh0bWxfYzlkYzlhNmVmOWViNDQyYmJhNDIxZTQwYWNhOGZmMDgpOwogICAgICAgIAoKICAgICAgICBtYXJrZXJfNDljZTA2NmRmM2FiNGZlMjkwYWZmYmViMjVmOGViMTIuYmluZFBvcHVwKHBvcHVwXzc3OGQ2YTI1ODNmYzRkZThhMTM4MTdiYWMyOTIxN2M1KQogICAgICAgIDsKCiAgICAgICAgCiAgICAKICAgIAogICAgICAgICAgICB2YXIgcG9seV9saW5lX2UyNzI0YWQ2ZGIzMzQyYzZhY2FmMTY4NWY2YzY0MWQ4ID0gTC5wb2x5bGluZSgKICAgICAgICAgICAgICAgIFtbMS40MzE4NTEsIDEwMy44MzYzMzFdLCBbMS40MzE1MywgMTAzLjgzNjEzNl0sIFsxLjQzMTE0NTYsIDEwMy44MzYxMDAyXSwgWzEuNDMwNjEwOSwgMTAzLjgzNjE2M10sIFsxLjQzMDc4MzYsIDEwMy44MzYzMzU2XSwgWzEuNDMxMjI3OCwgMTAzLjgzNjc1MTRdLCBbMS40MzEyNzQsIDEwMy44MzcwNDddLCBbMS40MzA3NjQxLCAxMDMuODM3MjY0NV0sIFsxLjQzMDkwNDQsIDEwMy44Mzc2MDQ2XSwgWzEuNDMwNzQ4OSwgMTAzLjgzNzg5MDFdLCBbMS40MzEzMzk3LCAxMDMuODM4NDk3M10sIFsxLjQzMTc1MjMsIDEwMy44MzgwOTgzXSwgWzEuNDMxNDgsIDEwMy44Mzc3OTg0XSwgWzEuNDMxODA2LCAxMDMuODM3MzYzXV0sCiAgICAgICAgICAgICAgICB7ImJ1YmJsaW5nTW91c2VFdmVudHMiOiB0cnVlLCAiY29sb3IiOiAiZGFya3JlZCIsICJkYXNoQXJyYXkiOiBudWxsLCAiZGFzaE9mZnNldCI6IG51bGwsICJmaWxsIjogZmFsc2UsICJmaWxsQ29sb3IiOiAiZGFya3JlZCIsICJmaWxsT3BhY2l0eSI6IDAuMiwgImZpbGxSdWxlIjogImV2ZW5vZGQiLCAibGluZUNhcCI6ICJyb3VuZCIsICJsaW5lSm9pbiI6ICJyb3VuZCIsICJub0NsaXAiOiBmYWxzZSwgIm9wYWNpdHkiOiAxLCAic21vb3RoRmFjdG9yIjogMS4wLCAic3Ryb2tlIjogdHJ1ZSwgIndlaWdodCI6IDIuNX0KICAgICAgICAgICAgKS5hZGRUbyhtYXBfYTVmYTgwODk0NTA2NDMxYjk0YWZjNDQ0MDQzYjIwNDQpOwogICAgICAgIAo8L3NjcmlwdD4=\" style=\"position:absolute;width:100%;height:100%;left:0;top:0;border:none !important;\" allowfullscreen webkitallowfullscreen mozallowfullscreen></iframe></div></div>"
      ],
      "text/plain": [
       "<folium.folium.Map at 0x7f8a3e1420d0>"
      ]
     },
     "metadata": {},
     "output_type": "display_data"
    }
   ],
   "source": [
    "import folium\n",
    "\n",
    "mapa = set_up_map(data, df_append, routing, manager)\n",
    "display(mapa)"
   ]
  },
  {
   "cell_type": "markdown",
   "metadata": {},
   "source": [
    "# Looping to minimise distance travelled for all"
   ]
  },
  {
   "cell_type": "code",
   "execution_count": 41,
   "metadata": {},
   "outputs": [],
   "source": [
    "current_time_matrix = time_matrix_10min"
   ]
  },
  {
   "cell_type": "code",
   "execution_count": 42,
   "metadata": {},
   "outputs": [
    {
     "name": "stdout",
     "output_type": "stream",
     "text": [
      "SOLUTIONS\n",
      "\n",
      "Route for vehicle 0:\n",
      "Blk 212 -> Blk 209 -> Blk 211 -> Blk 210 -> Blk 201 -> Blk 208 -> Blk 202 -> Blk 207 -> Blk 206 -> Blk 213 -> Blk 216 -> Blk 231 -> Blk 232 -> Blk 237 -> Blk 238\n",
      "Walking distance of the route: 2721.0m\n",
      "Walking time of the route: 155.22458679018794mins\n",
      "Euclidean distance of the route: 1070.2128111169168m\n",
      "Numbers of block: 15\n",
      "Route for vehicle 1:\n",
      "Blk 204 -> Blk 203 -> Blk 205 -> Blk 214 -> Blk 215 -> Blk 217 -> Blk 218 -> Blk 219 -> Blk 221 -> Blk 226 -> Blk 230 -> Blk 234 -> Blk 235 -> Blk 236 -> Blk 238\n",
      "Walking distance of the route: 2509.0m\n",
      "Walking time of the route: 154.01759239652455mins\n",
      "Euclidean distance of the route: 961.5833156872114m\n",
      "Numbers of block: 15\n",
      "Route for vehicle 2:\n",
      "Blk 291 -> Blk 292 -> Blk 293 -> Blk 264 -> Blk 261 -> Blk 260 -> Blk 259 -> Blk 257 -> Blk 258 -> Blk 253 -> Blk 254 -> Blk 244 -> Blk 243 -> Blk 239 -> Blk 238\n",
      "Walking distance of the route: 3464.0m\n",
      "Walking time of the route: 156.0729610366437mins\n",
      "Euclidean distance of the route: 1146.566493297934m\n",
      "Numbers of block: 15\n",
      "Route for vehicle 3:\n",
      "Blk 262 -> Blk 263 -> Blk 269A -> Blk 269B -> Blk 250 -> Blk 249 -> Blk 248 -> Blk 246 -> Blk 247 -> Blk 245 -> Blk 251 -> Blk 252 -> Blk 255 -> Blk 256 -> Blk 238\n",
      "Walking distance of the route: 2596.0m\n",
      "Walking time of the route: 155.98352122989613mins\n",
      "Euclidean distance of the route: 1138.5169106906503m\n",
      "Numbers of block: 15\n",
      "Route for vehicle 4:\n",
      "Blk 299 -> Blk 298 -> Blk 297 -> Blk 296 -> Blk 224 -> Blk 220 -> Blk 222 -> Blk 223 -> Blk 225 -> Blk 227 -> Blk 229 -> Blk 228 -> Blk 233 -> Blk 238\n",
      "Walking distance of the route: 2453.0m\n",
      "Walking time of the route: 149.12537096975677mins\n",
      "Euclidean distance of the route: 1121.2833872781098m\n",
      "Numbers of block: 14\n",
      "Route for vehicle 5:\n",
      "Blk 309 -> Blk 310 -> Blk 314 -> Blk 312 -> Blk 311 -> Blk 308 -> Blk 306 -> Blk 304 -> Blk 303 -> Blk 302 -> Blk 305 -> Blk 241 -> Blk 240 -> Blk 242 -> Blk 238\n",
      "Walking distance of the route: 2638.0m\n",
      "Walking time of the route: 153.7198776901749mins\n",
      "Euclidean distance of the route: 934.7889921157415m\n",
      "Numbers of block: 15\n",
      "Maximum of the euclidean distances: 3464.0m\n",
      "Maximum of the route duration: 156.0729610366437mins\n",
      "\n",
      "Max\n",
      "\n",
      "Route for vehicle 2:\n",
      "Blk 291 -> Blk 292 -> Blk 293 -> Blk 264 -> Blk 261 -> Blk 260 -> Blk 259 -> Blk 257 -> Blk 258 -> Blk 253 -> Blk 254 -> Blk 244 -> Blk 243 -> Blk 239 -> Blk 238\n",
      "Walking distance of the route: 3464.0m\n",
      "Walking time of the route: 156.0729610366437mins\n",
      "Euclidean distance of the route: 1146.566493297934m\n",
      "Numbers of block: 15\n",
      "SOLUTIONS\n",
      "\n",
      "Route for vehicle 0:\n",
      "Blk 299 -> Blk 298 -> Blk 297 -> Blk 296 -> Blk 224 -> Blk 206 -> Blk 207 -> Blk 231 -> Blk 232 -> Blk 234 -> Blk 228 -> Blk 233 -> Blk 235 -> Blk 238\n",
      "Walking distance of the route: 4938.0m\n",
      "Walking time of the route: 153.64143372627888mins\n",
      "Euclidean distance of the route: 2036.3047126329727m\n",
      "Numbers of block: 14\n",
      "Route for vehicle 1:\n",
      "Blk 225 -> Blk 226 -> Blk 223 -> Blk 222 -> Blk 220 -> Blk 215 -> Blk 214 -> Blk 205 -> Blk 204 -> Blk 203 -> Blk 202 -> Blk 208 -> Blk 201 -> Blk 210 -> Blk 238\n",
      "Walking distance of the route: 3820.0m\n",
      "Walking time of the route: 155.74051105053584mins\n",
      "Euclidean distance of the route: 1116.6459945482254m\n",
      "Numbers of block: 15\n",
      "Route for vehicle 2:\n",
      "Blk 227 -> Blk 229 -> Blk 230 -> Blk 221 -> Blk 219 -> Blk 218 -> Blk 217 -> Blk 216 -> Blk 213 -> Blk 212 -> Blk 209 -> Blk 211 -> Blk 241 -> Blk 240 -> Blk 238\n",
      "Walking distance of the route: 1615.0m\n",
      "Walking time of the route: 156.96206565981296mins\n",
      "Euclidean distance of the route: 1033.4495053256014m\n",
      "Numbers of block: 15\n",
      "Route for vehicle 3:\n",
      "Blk 304 -> Blk 303 -> Blk 302 -> Blk 305 -> Blk 306 -> Blk 308 -> Blk 311 -> Blk 312 -> Blk 314 -> Blk 310 -> Blk 309 -> Blk 242 -> Blk 236 -> Blk 237 -> Blk 238\n",
      "Walking distance of the route: 4813.0m\n",
      "Walking time of the route: 154.51524034149043mins\n",
      "Euclidean distance of the route: 3048.820109973353m\n",
      "Numbers of block: 15\n",
      "Route for vehicle 4:\n",
      "Blk 262 -> Blk 263 -> Blk 269A -> Blk 269B -> Blk 250 -> Blk 249 -> Blk 248 -> Blk 246 -> Blk 247 -> Blk 245 -> Blk 251 -> Blk 252 -> Blk 255 -> Blk 256 -> Blk 238\n",
      "Walking distance of the route: 3687.0m\n",
      "Walking time of the route: 155.98352122989613mins\n",
      "Euclidean distance of the route: 1742.2216374397508m\n",
      "Numbers of block: 15\n",
      "Maximum of the euclidean distances: 4938.0m\n",
      "Maximum of the route duration: 156.96206565981296mins\n",
      "\n",
      "Max\n",
      "\n",
      "Route for vehicle 2:\n",
      "Blk 227 -> Blk 229 -> Blk 230 -> Blk 221 -> Blk 219 -> Blk 218 -> Blk 217 -> Blk 216 -> Blk 213 -> Blk 212 -> Blk 209 -> Blk 211 -> Blk 241 -> Blk 240 -> Blk 238\n",
      "Walking distance of the route: 1615.0m\n",
      "Walking time of the route: 156.96206565981296mins\n",
      "Euclidean distance of the route: 1033.4495053256014m\n",
      "Numbers of block: 15\n",
      "SOLUTIONS\n",
      "\n",
      "Route for vehicle 0:\n",
      "Blk 210 -> Blk 305 -> Blk 302 -> Blk 303 -> Blk 304 -> Blk 306 -> Blk 308 -> Blk 311 -> Blk 312 -> Blk 314 -> Blk 310 -> Blk 309 -> Blk 242 -> Blk 238\n",
      "Walking distance of the route: 3391.0m\n",
      "Walking time of the route: 146.73031490027833mins\n",
      "Euclidean distance of the route: 1965.38611984657m\n",
      "Numbers of block: 14\n",
      "Route for vehicle 1:\n",
      "Blk 224 -> Blk 223 -> Blk 222 -> Blk 220 -> Blk 215 -> Blk 214 -> Blk 205 -> Blk 204 -> Blk 203 -> Blk 206 -> Blk 207 -> Blk 202 -> Blk 208 -> Blk 201 -> Blk 238\n",
      "Walking distance of the route: 4096.0m\n",
      "Walking time of the route: 156.00018240144087mins\n",
      "Euclidean distance of the route: 1415.5819078674403m\n",
      "Numbers of block: 15\n",
      "Route for vehicle 2:\n",
      "Blk 299 -> Blk 298 -> Blk 297 -> Blk 296 -> Blk 225 -> Blk 226 -> Blk 231 -> Blk 232 -> Blk 234 -> Blk 228 -> Blk 233 -> Blk 235 -> Blk 236 -> Blk 237 -> Blk 238\n",
      "Walking distance of the route: 3211.0m\n",
      "Walking time of the route: 156.88845647691522mins\n",
      "Euclidean distance of the route: 1548.5500676480792m\n",
      "Numbers of block: 15\n",
      "Route for vehicle 3:\n",
      "Blk 262 -> Blk 263 -> Blk 269A -> Blk 269B -> Blk 250 -> Blk 249 -> Blk 248 -> Blk 246 -> Blk 247 -> Blk 245 -> Blk 251 -> Blk 252 -> Blk 255 -> Blk 256 -> Blk 238\n",
      "Walking distance of the route: 3800.0m\n",
      "Walking time of the route: 155.98352122989613mins\n",
      "Euclidean distance of the route: 1703.0350083782073m\n",
      "Numbers of block: 15\n",
      "Maximum of the euclidean distances: 4096.0m\n",
      "Maximum of the route duration: 156.88845647691522mins\n",
      "\n",
      "Max\n",
      "\n",
      "Route for vehicle 2:\n",
      "Blk 299 -> Blk 298 -> Blk 297 -> Blk 296 -> Blk 225 -> Blk 226 -> Blk 231 -> Blk 232 -> Blk 234 -> Blk 228 -> Blk 233 -> Blk 235 -> Blk 236 -> Blk 237 -> Blk 238\n",
      "Walking distance of the route: 3211.0m\n",
      "Walking time of the route: 156.88845647691522mins\n",
      "Euclidean distance of the route: 1548.5500676480792m\n",
      "Numbers of block: 15\n",
      "SOLUTIONS\n",
      "\n",
      "Route for vehicle 0:\n",
      "Blk 201 -> Blk 305 -> Blk 302 -> Blk 303 -> Blk 304 -> Blk 306 -> Blk 308 -> Blk 311 -> Blk 312 -> Blk 314 -> Blk 310 -> Blk 309 -> Blk 242 -> Blk 238\n",
      "Walking distance of the route: 4101.0m\n",
      "Walking time of the route: 147.53564806475998mins\n",
      "Euclidean distance of the route: 1932.1408260274072m\n",
      "Numbers of block: 14\n",
      "Route for vehicle 1:\n",
      "Blk 262 -> Blk 263 -> Blk 269A -> Blk 269B -> Blk 250 -> Blk 249 -> Blk 248 -> Blk 246 -> Blk 247 -> Blk 245 -> Blk 251 -> Blk 252 -> Blk 255 -> Blk 256 -> Blk 238\n",
      "Walking distance of the route: 2617.0m\n",
      "Walking time of the route: 155.98352122989613mins\n",
      "Euclidean distance of the route: 1480.3886650725055m\n",
      "Numbers of block: 15\n",
      "Route for vehicle 2:\n",
      "Blk 224 -> Blk 223 -> Blk 222 -> Blk 220 -> Blk 215 -> Blk 214 -> Blk 205 -> Blk 204 -> Blk 203 -> Blk 206 -> Blk 207 -> Blk 202 -> Blk 208 -> Blk 210 -> Blk 238\n",
      "Walking distance of the route: 3820.0m\n",
      "Walking time of the route: 155.84742633828017mins\n",
      "Euclidean distance of the route: 1185.219521643009m\n",
      "Numbers of block: 15\n",
      "Maximum of the euclidean distances: 4101.0m\n",
      "Maximum of the route duration: 155.98352122989613mins\n",
      "\n",
      "Max\n",
      "\n",
      "Route for vehicle 1:\n",
      "Blk 262 -> Blk 263 -> Blk 269A -> Blk 269B -> Blk 250 -> Blk 249 -> Blk 248 -> Blk 246 -> Blk 247 -> Blk 245 -> Blk 251 -> Blk 252 -> Blk 255 -> Blk 256 -> Blk 238\n",
      "Walking distance of the route: 2617.0m\n",
      "Walking time of the route: 155.98352122989613mins\n",
      "Euclidean distance of the route: 1480.3886650725055m\n",
      "Numbers of block: 15\n"
     ]
    }
   ],
   "source": [
    "\"\"\"Solve the CVRP problem.\"\"\"\n",
    "# Instantiate the data problem.\n",
    "\"\"\"Stores the data for the problem.\"\"\"\n",
    "data = {}\n",
    "data[\"distance_matrix\"] = current_time_matrix\n",
    "data[\"num_vehicles\"] = 6\n",
    "data[\"depot\"] = 37\n",
    "df_tmp = df.copy()\n",
    "\n",
    "while data[\"num_vehicles\"] > 2:\n",
    "    # Create the routing index manager.\n",
    "    solution, manager, routing = vrp_solver(data)\n",
    "\n",
    "    # Print solution on console.\n",
    "    if solution:\n",
    "        full_route = generate_readable_solution(\n",
    "            data, manager, routing, solution, time_matrix=current_time_matrix, df=df_tmp\n",
    "        )\n",
    "        print(\"SOLUTIONS\\n\")\n",
    "        print_solution(full_route)\n",
    "        max_route_id = np.argmax(full_route[\"time\"])\n",
    "        print(\"\\nMax\\n\")\n",
    "        print(full_route[\"route_print\"][max_route_id])\n",
    "        max_route = full_route[\"route\"][max_route_id][1:-1]\n",
    "        df_tmp = df_tmp.drop(max_route)\n",
    "        df_tmp = df_tmp.reset_index(drop=True)\n",
    "        current_time_matrix = np.delete(current_time_matrix, max_route, 0)\n",
    "        current_time_matrix = np.delete(current_time_matrix, max_route, 1)\n",
    "        data[\"distance_matrix\"] = current_time_matrix\n",
    "        data[\"num_vehicles\"] = data[\"num_vehicles\"] - 1\n",
    "        data[\"depot\"] = data[\"depot\"] - sum([(i < data[\"depot\"]) for i in max_route])\n",
    "    else:\n",
    "        break"
   ]
  }
 ],
 "metadata": {
  "jupytext": {
   "text_representation": {
    "extension": ".py",
    "format_name": "percent",
    "format_version": "1.2",
    "jupytext_version": "1.2.3"
   }
  },
  "kernelspec": {
   "display_name": "Python 3",
   "language": "python",
   "name": "python3"
  },
  "language_info": {
   "codemirror_mode": {
    "name": "ipython",
    "version": 3
   },
   "file_extension": ".py",
   "mimetype": "text/x-python",
   "name": "python",
   "nbconvert_exporter": "python",
   "pygments_lexer": "ipython3",
   "version": "3.7.4"
  }
 },
 "nbformat": 4,
 "nbformat_minor": 4
}
