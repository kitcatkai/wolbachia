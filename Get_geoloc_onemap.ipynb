{
 "cells": [
  {
   "cell_type": "markdown",
   "metadata": {},
   "source": [
    "# Note\n",
    "This code read in the excel file with a \"Postal\" column and add in a \"lat\" and \"long\" columns based on onemap api.  "
   ]
  },
  {
   "cell_type": "code",
   "execution_count": 1,
   "metadata": {},
   "outputs": [],
   "source": [
    "from http import HTTPStatus\n",
    "\n",
    "import pandas as pd\n",
    "import requests"
   ]
  },
  {
   "cell_type": "code",
   "execution_count": 2,
   "metadata": {},
   "outputs": [],
   "source": [
    "filename = \"NSE Release Blk Postal Code.xlsx\"\n",
    "output_csv = \"data/NSE_release_with_latlong.csv\""
   ]
  },
  {
   "cell_type": "markdown",
   "metadata": {},
   "source": [
    "# Getting the Geolocation"
   ]
  },
  {
   "cell_type": "code",
   "execution_count": 3,
   "metadata": {
    "lines_to_next_cell": 2
   },
   "outputs": [],
   "source": [
    "# Reading in the release data\n",
    "release_pts = pd.read_excel(filename)\n",
    "release_pts[\"lat\"] = \"\"\n",
    "release_pts[\"long\"] = \"\""
   ]
  },
  {
   "cell_type": "code",
   "execution_count": null,
   "metadata": {},
   "outputs": [],
   "source": [
    "ONEMAP_SEARCH_URL = \"https://developers.onemap.sg/commonapi/search\"\n",
    "\n",
    "\n",
    "def get_latlon_frm_postal(postal):\n",
    "    m = {\"searchVal\": postal, \"returnGeom\": \"Y\", \"getAddrDetails\": \"Y\"}\n",
    "    response = requests.request(\"GET\", ONEMAP_SEARCH_URL, params=m)\n",
    "    if response.status_code == HTTPStatus.OK:\n",
    "        if response.json()[\"totalNumPages\"] == 0:\n",
    "            print(\"No result found for postal code {}!\".format(postal))\n",
    "            return 0, 0\n",
    "        results = response.json()[\"results\"]\n",
    "        for result in results:\n",
    "            if result[\"POSTAL\"] == str(postal):\n",
    "                return result[\"LATITUDE\"], result[\"LONGTITUDE\"]\n",
    "        # Cannot find match\n",
    "        while response.json()[\"totalNumPages\"] > response.json()[\"pageNum\"]:\n",
    "            m[\"pageNum\"] = response.json()[\"pageNum\"] + 1\n",
    "            response = requests.request(\"GET\", ONEMAP_SEARCH_URL, params=m)\n",
    "            results = response.json()[\"results\"]\n",
    "            for result in results:\n",
    "                if result[\"POSTAL\"] == str(postal):\n",
    "                    return result[\"LATITUDE\"], result[\"LONGTITUDE\"]\n",
    "        print(\"Could not find the matching postal code {}!\".format(postal))\n",
    "        return 0, 0\n",
    "    else:\n",
    "        print(\"Got response {} for postal code {}\".format(response.status_code, postal))\n",
    "    return 0, 0"
   ]
  },
  {
   "cell_type": "code",
   "execution_count": 5,
   "metadata": {},
   "outputs": [],
   "source": [
    "release_pts[\"lat\"] = 0\n",
    "release_pts[\"long\"] = 0\n",
    "for idx, row in release_pts.iterrows():\n",
    "    lat, long = get_latlon_frm_postal(row[\"Postal\"])\n",
    "    release_pts.loc[idx, \"lat\"] = lat\n",
    "    release_pts.loc[idx, \"long\"] = long"
   ]
  },
  {
   "cell_type": "code",
   "execution_count": 6,
   "metadata": {},
   "outputs": [],
   "source": [
    "release_pts.to_csv(output_csv, index=False)"
   ]
  }
 ],
 "metadata": {
  "jupytext": {
   "text_representation": {
    "extension": ".py",
    "format_name": "percent",
    "format_version": "1.2",
    "jupytext_version": "1.2.3"
   }
  },
  "kernelspec": {
   "display_name": "Python 3",
   "language": "python",
   "name": "python3"
  },
  "language_info": {
   "codemirror_mode": {
    "name": "ipython",
    "version": 3
   },
   "file_extension": ".py",
   "mimetype": "text/x-python",
   "name": "python",
   "nbconvert_exporter": "python",
   "pygments_lexer": "ipython3",
   "version": "3.7.4"
  }
 },
 "nbformat": 4,
 "nbformat_minor": 4
}
