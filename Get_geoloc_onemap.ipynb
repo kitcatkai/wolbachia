{
 "cells": [
  {
   "cell_type": "markdown",
   "metadata": {},
   "source": [
    "# Note\n",
    "This code produce the dataframe with the lat, lon of buildings, walking distance and time matrix.\n",
    "\n",
    "Should only be run once and the output is saved to reduce call to Google api."
   ]
  },
  {
   "cell_type": "code",
   "execution_count": 35,
   "metadata": {
    "lines_to_next_cell": 2
   },
   "outputs": [],
   "source": [
    "import pandas as pd\n",
    "import json\n",
    "import requests\n",
    "import math\n",
    "import numpy as np\n",
    "from http import HTTPStatus\n",
    "from haversine import haversine"
   ]
  },
  {
   "cell_type": "markdown",
   "metadata": {},
   "source": [
    "# Getting the Geolocation"
   ]
  },
  {
   "cell_type": "code",
   "execution_count": 36,
   "metadata": {
    "lines_to_next_cell": 2
   },
   "outputs": [],
   "source": [
    "# Reading in the release data\n",
    "release_pts = pd.read_excel(\"NSE Release Blk Postal Code.xlsx\")\n",
    "release_pts['lat'] = ''\n",
    "release_pts['long'] = ''"
   ]
  },
  {
   "cell_type": "code",
   "execution_count": 42,
   "metadata": {},
   "outputs": [],
   "source": [
    "url = \"https://developers.onemap.sg/commonapi/search\"\n",
    "\n",
    "def get_latlon_frm_postal(postal):\n",
    "    m = {'searchVal': postal, 'returnGeom' : 'Y', 'getAddrDetails' : 'Y'}\n",
    "    response = requests.request(\n",
    "        \"GET\",\n",
    "        url,\n",
    "        params=m\n",
    "    )\n",
    "    if response.status_code == HTTPStatus.OK:\n",
    "        results = response.json()['results']\n",
    "        for result in results:\n",
    "            if result['POSTAL'] == str(postal):\n",
    "                return result['LATITUDE'], result['LONGTITUDE']\n",
    "        # Cannot find match\n",
    "        while response.json()['totalNumPages'] > response.json()['pageNum']:\n",
    "            m['pageNum'] = response.json()['pageNum'] + 1\n",
    "            print(response.json()['totalNumPages'])\n",
    "            print(m['pageNum'])\n",
    "            response = requests.request(\n",
    "                \"GET\",\n",
    "                url,\n",
    "                params=m\n",
    "            )\n",
    "            results = response.json()['results']\n",
    "            for result in results:\n",
    "                if result['POSTAL'] == str(postal):\n",
    "                    return result['LATITUDE'], result['LONGTITUDE']\n",
    "        print(\"Could not find the matching postal code {}!\".format(postal))\n",
    "        return 0,0\n",
    "    else:\n",
    "        print(\"Got response {} for postal code {}\".format(response.status_code, postal))\n",
    "    return 0, 0"
   ]
  },
  {
   "cell_type": "code",
   "execution_count": 43,
   "metadata": {},
   "outputs": [
    {
     "name": "stdout",
     "output_type": "stream",
     "text": [
      "Could not find the matching postal code 6502578!\n"
     ]
    },
    {
     "data": {
      "text/plain": [
       "(0, 0)"
      ]
     },
     "execution_count": 43,
     "metadata": {},
     "output_type": "execute_result"
    }
   ],
   "source": [
    "get_latlon_frm_postal(6502578)"
   ]
  },
  {
   "cell_type": "code",
   "execution_count": 45,
   "metadata": {},
   "outputs": [],
   "source": [
    "release_pts['lat'] = 0\n",
    "release_pts['long'] = 0\n",
    "for idx, row in release_pts.iterrows():\n",
    "    lat, long = get_latlon_frm_postal(row['Postal'])\n",
    "    release_pts.loc[idx, 'lat'] = lat\n",
    "    release_pts.loc[idx, 'long'] = long    "
   ]
  },
  {
   "cell_type": "code",
   "execution_count": 46,
   "metadata": {},
   "outputs": [
    {
     "data": {
      "text/html": [
       "<div>\n",
       "<style scoped>\n",
       "    .dataframe tbody tr th:only-of-type {\n",
       "        vertical-align: middle;\n",
       "    }\n",
       "\n",
       "    .dataframe tbody tr th {\n",
       "        vertical-align: top;\n",
       "    }\n",
       "\n",
       "    .dataframe thead th {\n",
       "        text-align: right;\n",
       "    }\n",
       "</style>\n",
       "<table border=\"1\" class=\"dataframe\">\n",
       "  <thead>\n",
       "    <tr style=\"text-align: right;\">\n",
       "      <th></th>\n",
       "      <th>Postal</th>\n",
       "      <th>Block</th>\n",
       "      <th>lat</th>\n",
       "      <th>long</th>\n",
       "    </tr>\n",
       "  </thead>\n",
       "  <tbody>\n",
       "    <tr>\n",
       "      <td>0</td>\n",
       "      <td>760201</td>\n",
       "      <td>201</td>\n",
       "      <td>1.4306372509999998</td>\n",
       "      <td>103.8381317</td>\n",
       "    </tr>\n",
       "    <tr>\n",
       "      <td>1</td>\n",
       "      <td>760202</td>\n",
       "      <td>202</td>\n",
       "      <td>1.4306656969999998</td>\n",
       "      <td>103.8373333</td>\n",
       "    </tr>\n",
       "    <tr>\n",
       "      <td>2</td>\n",
       "      <td>760203</td>\n",
       "      <td>203</td>\n",
       "      <td>1.430683177</td>\n",
       "      <td>103.8365766</td>\n",
       "    </tr>\n",
       "    <tr>\n",
       "      <td>3</td>\n",
       "      <td>760204</td>\n",
       "      <td>204</td>\n",
       "      <td>1.430712741</td>\n",
       "      <td>103.835796</td>\n",
       "    </tr>\n",
       "    <tr>\n",
       "      <td>4</td>\n",
       "      <td>760205</td>\n",
       "      <td>205</td>\n",
       "      <td>1.431069706</td>\n",
       "      <td>103.8363086</td>\n",
       "    </tr>\n",
       "    <tr>\n",
       "      <td>...</td>\n",
       "      <td>...</td>\n",
       "      <td>...</td>\n",
       "      <td>...</td>\n",
       "      <td>...</td>\n",
       "    </tr>\n",
       "    <tr>\n",
       "      <td>138</td>\n",
       "      <td>763317</td>\n",
       "      <td>317C</td>\n",
       "      <td>1.433780483</td>\n",
       "      <td>103.84310570000001</td>\n",
       "    </tr>\n",
       "    <tr>\n",
       "      <td>139</td>\n",
       "      <td>763318</td>\n",
       "      <td>318C</td>\n",
       "      <td>1.43338279</td>\n",
       "      <td>103.8435179</td>\n",
       "    </tr>\n",
       "    <tr>\n",
       "      <td>140</td>\n",
       "      <td>763342</td>\n",
       "      <td>342C</td>\n",
       "      <td>1.429918918</td>\n",
       "      <td>103.8443675</td>\n",
       "    </tr>\n",
       "    <tr>\n",
       "      <td>141</td>\n",
       "      <td>763348</td>\n",
       "      <td>348C</td>\n",
       "      <td>1.42714143</td>\n",
       "      <td>103.8422313</td>\n",
       "    </tr>\n",
       "    <tr>\n",
       "      <td>142</td>\n",
       "      <td>764348</td>\n",
       "      <td>348D</td>\n",
       "      <td>1.426926621</td>\n",
       "      <td>103.842897</td>\n",
       "    </tr>\n",
       "  </tbody>\n",
       "</table>\n",
       "<p>143 rows × 4 columns</p>\n",
       "</div>"
      ],
      "text/plain": [
       "     Postal Block                 lat                long\n",
       "0    760201   201  1.4306372509999998         103.8381317\n",
       "1    760202   202  1.4306656969999998         103.8373333\n",
       "2    760203   203         1.430683177         103.8365766\n",
       "3    760204   204         1.430712741          103.835796\n",
       "4    760205   205         1.431069706         103.8363086\n",
       "..      ...   ...                 ...                 ...\n",
       "138  763317  317C         1.433780483  103.84310570000001\n",
       "139  763318  318C          1.43338279         103.8435179\n",
       "140  763342  342C         1.429918918         103.8443675\n",
       "141  763348  348C          1.42714143         103.8422313\n",
       "142  764348  348D         1.426926621          103.842897\n",
       "\n",
       "[143 rows x 4 columns]"
      ]
     },
     "execution_count": 46,
     "metadata": {},
     "output_type": "execute_result"
    }
   ],
   "source": [
    "release_pts"
   ]
  },
  {
   "cell_type": "code",
   "execution_count": null,
   "metadata": {},
   "outputs": [],
   "source": [
    "for each in range(num_blonum_blocks):\n",
    "    if not df.loc[each, \"location\"]:\n",
    "        m = {'searchVal': , 'returnGeom' : 'Y', 'getAddrDetails', 'Y'}\n",
    "        response = requests.request(\n",
    "            \"POST\",\n",
    "            url,\n",
    "            json=m\n",
    "        )\n",
    "        try:\n",
    "            df.loc[each, \"location\"] = (\n",
    "                str(data[\"results\"][0][\"geometry\"][\"location\"][\"lat\"])\n",
    "                + \",\"\n",
    "                + str(data[\"results\"][0][\"geometry\"][\"location\"][\"lng\"])\n",
    "            )\n",
    "        except:\n",
    "            print(each)\n",
    "            print(data)\n",
    "\n",
    "df.to_pickle(\"data/block_with_geoloc.pickle\")"
   ]
  },
  {
   "cell_type": "markdown",
   "metadata": {},
   "source": [
    "# Getting the walking distance and time "
   ]
  },
  {
   "cell_type": "code",
   "execution_count": null,
   "metadata": {},
   "outputs": [],
   "source": [
    "# splitting the addresses into multiple string due to api limit\n",
    "\n",
    "arr = \"\"\n",
    "arr_total = []\n",
    "count = 0\n",
    "for index, row in df.iterrows():\n",
    "    count += 1\n",
    "    arr += str(row[\"address\"]) + \"|\"\n",
    "    if count >= 25:\n",
    "        arr_total.append(arr)\n",
    "        count = 0\n",
    "        arr = \"\"\n",
    "if count != 0:\n",
    "    arr_total.append(arr)\n",
    "arr_total\n",
    "\n",
    "\n",
    "\n",
    "\n",
    "np.save(\"data/time_matrix.npy\", time_matrix)\n",
    "np.save(\"data/dist_matrix.npy\", dist_matrix)"
   ]
  }
 ],
 "metadata": {
  "jupytext": {
   "text_representation": {
    "extension": ".py",
    "format_name": "percent",
    "format_version": "1.2",
    "jupytext_version": "1.2.3"
   }
  },
  "kernelspec": {
   "display_name": "Python 3",
   "language": "python",
   "name": "python3"
  },
  "language_info": {
   "codemirror_mode": {
    "name": "ipython",
    "version": 3
   },
   "file_extension": ".py",
   "mimetype": "text/x-python",
   "name": "python",
   "nbconvert_exporter": "python",
   "pygments_lexer": "ipython3",
   "version": "3.7.4"
  }
 },
 "nbformat": 4,
 "nbformat_minor": 4
}
